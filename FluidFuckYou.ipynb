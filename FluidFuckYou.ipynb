{
  "nbformat": 4,
  "nbformat_minor": 0,
  "metadata": {
    "colab": {
      "name": "FluidFuckYou.ipynb",
      "provenance": [],
      "collapsed_sections": [],
      "authorship_tag": "ABX9TyPLMZLHSWljGKpCKAs4oEXV",
      "include_colab_link": true
    },
    "kernelspec": {
      "name": "python3",
      "display_name": "Python 3"
    },
    "language_info": {
      "name": "python"
    }
  },
  "cells": [
    {
      "cell_type": "markdown",
      "metadata": {
        "id": "view-in-github",
        "colab_type": "text"
      },
      "source": [
        "<a href=\"https://colab.research.google.com/github/papipopapu/PhysicsThings/blob/main/FluidFuckYou.ipynb\" target=\"_parent\"><img src=\"https://colab.research.google.com/assets/colab-badge.svg\" alt=\"Open In Colab\"/></a>"
      ]
    },
    {
      "cell_type": "code",
      "execution_count": 1,
      "metadata": {
        "id": "n3fyIUjrlK9i",
        "colab": {
          "base_uri": "https://localhost:8080/"
        },
        "outputId": "9cf64fde-effe-424c-e803-28df0b3b2421"
      },
      "outputs": [
        {
          "output_type": "stream",
          "name": "stdout",
          "text": [
            "Requirement already satisfied: tbb in /usr/local/lib/python3.7/dist-packages (2021.5.1)\n"
          ]
        }
      ],
      "source": [
        "import numpy as np\n",
        "import numba as nb\n",
        "import typing as tp\n",
        "import math\n",
        "import time\n",
        "!pip install --upgrade tbb\n"
      ]
    },
    {
      "cell_type": "code",
      "source": [
        "# Methods\n",
        "# Keep in mind we need Gradient(p) to be substracted of non boundary velocities\n",
        "# , while Diverence(\\vec{u}) is to be substracted of pressure\n",
        "\n",
        "@nb.njit\n",
        "def setBounds(S: np.array, bType: int):\n",
        "  Ni = S.shape[0]; Nj = S.shape[1] \n",
        "  if bType is 1:\n",
        "    S[:, 0] = -S[:, 1];    S[:, Nj-1] = -S[:, Nj-2];    S[0, :] = S[1, :];      S[Ni-1, :] = S[Ni-2, :]; \n",
        "  if bType is 2:\n",
        "    S[:, 0] = S[:, 1];     S[:, Nj-1] = S[:, Nj-2];     S[0, :] = -S[1, :];     S[Ni-1, :] = -S[Ni-2, :]; \n",
        "  else:\n",
        "    S[:, 0] = S[:, 1];     S[:, Nj-1] = S[:, Nj-2];     S[0, :] = S[1, :];      S[Ni-1, :] = S[Ni-2, :]; \n",
        "\n",
        "  S[0, 0] = 0.5 * (S[1, 0] + S[0, 1]); S[0, Nj-1] = 0.5 * (S[1, Nj-1] + S[0, Nj-2])\n",
        "  S[Ni-1, Nj-1] = 0.5 * (S[Ni-2, Nj-1] + S[Ni-1, Nj-2]); S[Ni-1, 0] = 0.5 * (S[Ni-1, 1] + S[Ni-2, 0])\n",
        "\n",
        "\n",
        "@nb.njit\n",
        "def Diffuse(S1: np.array, S0: np.array, boundType: int, visc: float, dh: float, dt: float):\n",
        "  a = 4 * dt/(dh*dh) * visc\n",
        "  Ni = S0.shape[0]; Nj = S0.shape[1] \n",
        "  for k in np.arange(20):\n",
        "    for i in np.arange(1, Ni + 1):\n",
        "      for j in np.arange(1, Nj + 1):\n",
        "        S1[i, j] = (S0[i, j] + a * (S1[i+1, j] + S1[i-1, j] + S1[i, j+1] + S1[i, j-1]))/(1 + 4*a)\n",
        "    setBounds(S1, boundType)\n",
        "\n",
        "@nb.njit(parallel = True)\n",
        "def Advect(S1: np.array, S0: np.array, u: np.array, v: np.array, boundType: int, dh: float, dt: float):\n",
        "  Ni = S0.shape[0]; Nj = S0.shape[1]\n",
        "  dtp = dt/dh\n",
        "  for i in nb.prange(1, Ni + 1):\n",
        "    for j in np.arange(1, Nj + 1):\n",
        "       jp = j - dtp * u[i, j]; ip = i + dtp * v[i, j] # it makes sense\n",
        "       if jp < 0.5 : jp = 0.5\n",
        "       if ip < 0.5 : ip = 0.5\n",
        "       if jp > Nj + 0.5 : jp = Nj + 0.5\n",
        "       if ip > Ni + 0.5 : ip = Ni + 0.5;\n",
        "       iTop = int(ip); jLeft = int(jp); iBottom = int(ip+1); jRight = int(jp+1)\n",
        "       interpY = (ip-iTop)/(iBottom-iTop); interpX = (jp-jLeft)/(jRight-jLeft)\n",
        "       SL = S0[iTop, jLeft]  * (1 - interpY) + S0[iBottom, jLeft]  *  interpY\n",
        "       SR = S0[iTop, jRight] * (1 - interpY) + S0[iBottom, jRight] *  interpY\n",
        "       S1[i, j] =         SL * (1 - interpX) +                  SR *  interpX\n",
        "  setBounds(S1, boundType)\n",
        "\n",
        "\n",
        "@nb.njit\n",
        "def Project(u: np.array, v: np.array, div: np.array, p: np.array, dens: float, dh: float):\n",
        "  Ni = u.shape[0]; Nj = u.shape[1]; dhp = 1/(dh * dens)\n",
        "  for i in nb.prange(1, Ni + 1):\n",
        "    for j in np.arange(1, Nj + 1):\n",
        "      div[i, j] = u[i, j+1] - u[i, j-1] + v[i-1, j] - u[i+1, j]\n",
        "  setBounds(p, 0)\n",
        "  for k in np.arange(20):\n",
        "    for i in np.arange(1, Ni + 1):\n",
        "      for j in np.arange(1, Nj + 1):\n",
        "        p[i, j] = (- dh * div[i, j] + p[i+1, j] + p[i-1, j] + p[i, j+1] + p[i, j-1])/4\n",
        "    setBounds(p, 0)\n",
        "  for i in np.arange(1, Ni + 1):\n",
        "      for j in np.arange(1, Nj + 1):\n",
        "        u[i, j] -= (p[i, j+1] - p[i, j-1]) * dhp\n",
        "        v[i, j] -= (p[i-1, j] - p[i+1, j]) * dhp\n",
        "  setBounds(u, 1); setBounds(v, 2)\n",
        "\n",
        "@nb.njit\n",
        "def noSource(S: np.array, dt: np.array, t: np.array):\n",
        "  pass\n",
        "\n",
        "\n",
        "\n",
        "class Fluid:\n",
        "  def __init__(self, Ni: int, Nj: int, dh: float, u0: np.array, v0: np.array, p0: np.array, s0: np.array, visc = 1, dens = 1, viscS = 1, uSource = noSource, vSource = noSource, sSource = noSource):\n",
        "    self._u0 = u0; self._u1 = np.zeros((Ni+2, Nj+2)); self._uSource = uSource\n",
        "    self._v0 = v0; self._v1 = np.zeros((Ni+2, Nj+2)); self._vSource = vSource\n",
        "\n",
        "    self._p = p0\n",
        "    self._div = np.zeros((Ni+2, Nj+2))\n",
        "    self._s0 = s0; self._s1 = np.zeros((Ni+2, Nj+2)); self._sSource = sSource\n",
        "\n",
        "    self._dt = 1\n",
        "    self._t = 0\n",
        "    self._dh = dh\n",
        "    self._visc = 1; self._viscS = viscS\n",
        "    self._dens = 1\n",
        "\n",
        "  def vStep(self):\n",
        "    self._uSource(self._u1, self._dt, self._t); self._vSource(self._v1, self._dt, self._t) # u1 = f(u0)\n",
        "    self._u0 = self._u1; self._v0 = self._v1 # update\n",
        "    Diffuse(self._u1, self._u0, 1, self._visc, self._dh, self._dt)\n",
        "    Diffuse(self._v1, self._v0, 2, self._visc, self._dh, self._dt)\n",
        "    Project(self._u1, self._v1, self._div, self._p, self._dens, self._dh)\n",
        "    self._u0 = self._u1; self._v0 = self._v1 # update\n",
        "    Advect(self._u1, self._u0, self._u0, self._v0, 1, self._dh, self._dt)\n",
        "    Advect(self._v1, self._v0, self._u0, self._v0, 1, self._dh, self._dt)\n",
        "    Project(self._u1, self._v1, self._div, self._p, self._dens, self._dh)\n",
        "\n",
        "\n",
        "  def sStep(self):\n",
        "    self._sSource(self._s1, self._dt, self._t)\n",
        "    self._s0 = self._s1\n",
        "    Diffuse(self._s1, self._s0, 0, self._viscS, self._dh, self._dt)\n",
        "    self._s0 = self._s1\n",
        "    Advect(self._s1, self._s0, self._u1, self._v1, 0, self._dh, self._dt)\n",
        "  \n",
        "  def step(self, dt):\n",
        "    self._dt = dt\n",
        "    self.vStep()\n",
        "    self.sStep()\n",
        "    self._t += self._dt\n",
        "\n",
        "\n",
        "\n",
        "  \n",
        "\n",
        "\n"
      ],
      "metadata": {
        "id": "JaIj1pX3lPN1"
      },
      "execution_count": 22,
      "outputs": []
    },
    {
      "cell_type": "code",
      "source": [
        "u0 = np.ones((100,100))\n",
        "v0 = np.ones((100,100))\n",
        "p0 = np.zeros((100,100))\n",
        "s0 = np.arange(10000).reshape(100,100)\n",
        "fluid = Fluid(98,98, 1, u0, v0, p0, s0)"
      ],
      "metadata": {
        "id": "yLUV1KNE317W"
      },
      "execution_count": 23,
      "outputs": []
    },
    {
      "cell_type": "code",
      "source": [
        "fluid.step(1)"
      ],
      "metadata": {
        "id": "ALizndvkJ2rs"
      },
      "execution_count": 24,
      "outputs": []
    },
    {
      "cell_type": "code",
      "source": [
        "%%timeit\n",
        "fluid.step(1)"
      ],
      "metadata": {
        "colab": {
          "base_uri": "https://localhost:8080/"
        },
        "id": "Qs0ada5zKLu7",
        "outputId": "b8c5acad-c04e-4884-d575-206511d05174"
      },
      "execution_count": 27,
      "outputs": [
        {
          "output_type": "stream",
          "name": "stdout",
          "text": [
            "100 loops, best of 5: 11.9 ms per loop\n"
          ]
        }
      ]
    },
    {
      "cell_type": "code",
      "source": [
        ""
      ],
      "metadata": {
        "id": "6i_GXsxEKejU"
      },
      "execution_count": null,
      "outputs": []
    }
  ]
}