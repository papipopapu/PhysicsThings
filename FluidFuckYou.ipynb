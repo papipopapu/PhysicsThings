{
  "nbformat": 4,
  "nbformat_minor": 0,
  "metadata": {
    "colab": {
      "name": "FluidFuckYou.ipynb",
      "provenance": [],
      "collapsed_sections": [],
      "authorship_tag": "ABX9TyMJlOaUI4k6VEAEpDxdDPSY",
      "include_colab_link": true
    },
    "kernelspec": {
      "name": "python3",
      "display_name": "Python 3"
    },
    "language_info": {
      "name": "python"
    }
  },
  "cells": [
    {
      "cell_type": "markdown",
      "metadata": {
        "id": "view-in-github",
        "colab_type": "text"
      },
      "source": [
        "<a href=\"https://colab.research.google.com/github/papipopapu/PhysicsThings/blob/main/FluidFuckYou.ipynb\" target=\"_parent\"><img src=\"https://colab.research.google.com/assets/colab-badge.svg\" alt=\"Open In Colab\"/></a>"
      ]
    },
    {
      "cell_type": "code",
      "execution_count": 1,
      "metadata": {
        "id": "n3fyIUjrlK9i",
        "colab": {
          "base_uri": "https://localhost:8080/"
        },
        "outputId": "9cf64fde-effe-424c-e803-28df0b3b2421"
      },
      "outputs": [
        {
          "output_type": "stream",
          "name": "stdout",
          "text": [
            "Requirement already satisfied: tbb in /usr/local/lib/python3.7/dist-packages (2021.5.1)\n"
          ]
        }
      ],
      "source": [
        "import numpy as np\n",
        "import numba as nb\n",
        "import typing as tp\n",
        "import math\n",
        "import time\n",
        "!pip install --upgrade tbb\n"
      ]
    },
    {
      "cell_type": "code",
      "source": [
        "# Methods\n",
        "# Keep in mind we need Gradient(p) to be substracted of non boundary velocities\n",
        "# , while Diverence(\\vec{u}) is to be substracted of pressure\n",
        "\n",
        "@nb.njit # trimmed\n",
        "def DY(V: np.array):\n",
        "  dV = V[2:, 1:-1] - V[:V.shape[0]-2, 1:-1]\n",
        "  return dV\n",
        "@nb.njit # trimmed\n",
        "def DX(V: np.array):\n",
        "  dV = V[1:-1, 1:-1] - V[:V.shape[0]-2, 1:-1]\n",
        "  return dV\n",
        "\n",
        "@nb.njit\n",
        "def setBounds(S: np.array, bType: int):\n",
        "  Ni = S.shape[0]; Nj = S.shape[1] \n",
        "  if bType is 1:\n",
        "    S[:, 0] = -S[:, 1];    S[:, Nj-1] = -S[:, Nj-2];    S[0, :] = S[1, :];      S[Ni-1, :] = S[Ni-2, :]; \n",
        "  if bType is 2:\n",
        "    S[:, 0] = S[:, 1];     S[:, Nj-1] = S[:, Nj-2];     S[0, :] = -S[1, :];     S[Ni-1, :] = -S[Ni-2, :]; \n",
        "  else:\n",
        "    S[:, 0] = S[:, 1];     S[:, Nj-1] = S[:, Nj-2];     S[0, :] = S[1, :];      S[Ni-1, :] = S[Ni-2, :]; \n",
        "    \n",
        "@nb.njit\n",
        "def Diffuse(S1: np.array, S0: np.array, boundType: int, dh: float, dt: float, visc: float):\n",
        "  a = 4 * dt/(dh*dh) * visc\n",
        "  Ni = S0.shape[0]; Nj = S0.shape[1] \n",
        "  for k in np.arange(20):\n",
        "    for i in nb.prange(1, Ni + 1):\n",
        "      for j in np.arange(1, Nj + 1):\n",
        "        S1[i, j] = (S0[i, j] + a * (S1[i+1, j] + S1[i-1, j] + S1[i, j+1] + S1[i, j-1]))/(1 + 4*a)\n",
        "    setBounds(S1, boundType)\n",
        "  \n",
        "@nb.njit(parallel = True)\n",
        "def Advect(S1: np.array, S0: np.array, u: np.array, v: np.array, boundType: int, dh: float, dt: float):\n",
        "  Ni = S0.shape[0]; Nj = S0.shape[1]\n",
        "  dtp = dt/dh\n",
        "  for i in nb.prange(1, Ni + 1):\n",
        "    for j in np.arange(1, Nj + 1):\n",
        "       jp = j - dtp * u[i, j]; ip = i + dtp * v[i, j] # it makes sense\n",
        "       if jp < 0.5 : jp = 0.5\n",
        "       if ip < 0.5 : ip = 0.5\n",
        "       if jp > Nj + 0.5 : jp = Nj + 0.5\n",
        "       if ip > Ni + 0.5 : ip = Ni + 0.5;\n",
        "       iTop = int(ip); jLeft = int(jp); iBottom = int(ip+1); jRight = int(jp+1)\n",
        "       interpY = (ip-iTop)/(iBottom-iTop); interpX = (jp-jLeft)/(jRight-jLeft)\n",
        "       SL = S0[iTop, jLeft]  * (1 - interpY) + S0[iBottom, jLeft]  *  interpY\n",
        "       SR = S0[iTop, jRight] * (1 - interpY) + S0[iBottom, jRight] * interpY\n",
        "       S1[i, j] =         SL * (1 - interpX) +                  SR * interpX\n",
        "  setBounds(S1, boundType)\n",
        "\n",
        "\n",
        "\n",
        "\n",
        "class Fluid:\n",
        "  def __init__(self, Ni: int, Nj: int, dh: float, u0: np.array, v0: np.array, p0: np.array, s0: np.array):\n",
        "    self._u0 = u0\n",
        "    self._u1 = np.zeros((Ni+2, Nj+2))\n",
        "    self._v0 = v0\n",
        "    self._v1 = np.zeros((Ni+2, Nj+2))\n",
        "    self._p0 = p0\n",
        "    self._p1 = np.zeros((Ni+2, Nj+2))\n",
        "    self._s0 = s0\n",
        "    self._s1 = np.zeros((Ni+2, Nj+2))\n",
        "\n",
        "    self._dt = 1\n",
        "    self._dh = dh\n",
        "    self._Ni = Ni\n",
        "    self._Nj = Nj\n",
        "\n",
        "  \n",
        "  def step(self, dt):\n",
        "    self._dt = dt\n",
        "\n",
        "    # Vstep:\n",
        "    # - Add forces\n",
        "    # - Enforce Boundaries\n",
        "    # - Diffuse\n",
        "    # - Enforce Boundaries\n",
        "    # - Project\n",
        "    # - Advect\n",
        "    # - Enforce BOundaries\n",
        "    # - Project\n",
        "\n",
        "    # Vstep:\n",
        "    # - Add sources\n",
        "    # - Advect\n",
        "    # - Enforce Boundaries\n",
        "    # - Diffuse\n",
        "    # - Enforce Boundaries\n",
        "\n",
        "  \n",
        "\n",
        "\n"
      ],
      "metadata": {
        "id": "JaIj1pX3lPN1"
      },
      "execution_count": 2,
      "outputs": []
    },
    {
      "cell_type": "code",
      "source": [
        "s0 = np.arange(10000).reshape(100,100)/10000\n"
      ],
      "metadata": {
        "id": "KMTk1HBs4TCK"
      },
      "execution_count": 72,
      "outputs": []
    },
    {
      "cell_type": "code",
      "source": [
        "%%timeit\n",
        "s1 = np.copy(s0)\n",
        "Diffuse(s1, s0, 0, 1., 1., 1.)\n"
      ],
      "metadata": {
        "colab": {
          "base_uri": "https://localhost:8080/"
        },
        "id": "Iqj6ZtIk8Rxj",
        "outputId": "b54b348c-a6cd-4f40-d418-6c9033109ebb"
      },
      "execution_count": 73,
      "outputs": [
        {
          "output_type": "stream",
          "name": "stdout",
          "text": [
            "100 loops, best of 5: 2.44 ms per loop\n"
          ]
        }
      ]
    },
    {
      "cell_type": "code",
      "source": [
        "!pip install --upgrade tbb"
      ],
      "metadata": {
        "colab": {
          "base_uri": "https://localhost:8080/"
        },
        "id": "iaLtCqTxAa9M",
        "outputId": "1cb1c715-0ded-4f99-977d-22338142a9cb"
      },
      "execution_count": 59,
      "outputs": [
        {
          "output_type": "stream",
          "name": "stdout",
          "text": [
            "Requirement already satisfied: tbb in /usr/local/lib/python3.7/dist-packages (2021.5.1)\n"
          ]
        }
      ]
    },
    {
      "cell_type": "code",
      "source": [
        "v = np.ones((10,10))\n",
        "u = np.zeros((10,10))\n",
        "S0 = np.arange(100).reshape(10,10)\n",
        "S = np.zeros((10, 10))\n",
        "dt = 1; dh = 1; bty = 0;\n",
        "S0"
      ],
      "metadata": {
        "colab": {
          "base_uri": "https://localhost:8080/"
        },
        "id": "kL7GUH5LBtNN",
        "outputId": "b6f09115-539c-49a2-d688-6b1a97b80d87"
      },
      "execution_count": 3,
      "outputs": [
        {
          "output_type": "execute_result",
          "data": {
            "text/plain": [
              "array([[ 0,  1,  2,  3,  4,  5,  6,  7,  8,  9],\n",
              "       [10, 11, 12, 13, 14, 15, 16, 17, 18, 19],\n",
              "       [20, 21, 22, 23, 24, 25, 26, 27, 28, 29],\n",
              "       [30, 31, 32, 33, 34, 35, 36, 37, 38, 39],\n",
              "       [40, 41, 42, 43, 44, 45, 46, 47, 48, 49],\n",
              "       [50, 51, 52, 53, 54, 55, 56, 57, 58, 59],\n",
              "       [60, 61, 62, 63, 64, 65, 66, 67, 68, 69],\n",
              "       [70, 71, 72, 73, 74, 75, 76, 77, 78, 79],\n",
              "       [80, 81, 82, 83, 84, 85, 86, 87, 88, 89],\n",
              "       [90, 91, 92, 93, 94, 95, 96, 97, 98, 99]])"
            ]
          },
          "metadata": {},
          "execution_count": 3
        }
      ]
    },
    {
      "cell_type": "code",
      "source": [
        "Advect(S, S0, u, v, bty, dh, dt)"
      ],
      "metadata": {
        "id": "0beMCzpvCRSN"
      },
      "execution_count": 6,
      "outputs": []
    },
    {
      "cell_type": "code",
      "source": [
        "Diffuse(S, S0, 0, dh, 1, 1)\n"
      ],
      "metadata": {
        "id": "XtO8i6yBQDnY"
      },
      "execution_count": 7,
      "outputs": []
    },
    {
      "cell_type": "code",
      "source": [
        "\n",
        "S"
      ],
      "metadata": {
        "colab": {
          "base_uri": "https://localhost:8080/"
        },
        "id": "W8TcqUZcRlax",
        "outputId": "3d2bcb72-bdd0-4090-ee6b-31ab8db3a172"
      },
      "execution_count": 8,
      "outputs": [
        {
          "output_type": "execute_result",
          "data": {
            "text/plain": [
              "array([[28.16038748, 28.16038748, 28.55299332, 29.18711349, 29.93403557,\n",
              "        30.70749441, 31.43620336, 32.04310051, 32.4247449 , 32.4247449 ],\n",
              "       [28.16038748, 28.16038748, 28.55299332, 29.18711349, 29.93403557,\n",
              "        30.70749441, 31.43620336, 32.04310051, 32.4247449 , 32.4247449 ],\n",
              "       [31.79658284, 31.79658284, 32.23610176, 32.89314744, 33.64905965,\n",
              "        34.42500686, 35.15367043, 35.75990169, 36.14109157, 36.14109157],\n",
              "       [37.51389893, 37.51389893, 38.07434429, 38.7793618 , 39.55437833,\n",
              "        40.33750626, 41.06850378, 41.67528629, 42.05653795, 42.05653795],\n",
              "       [44.39676156, 44.39676156, 45.05114894, 45.79795447, 46.59087385,\n",
              "        47.38130149, 48.11504258, 48.72273422, 49.10423788, 49.10423788],\n",
              "       [51.71884769, 51.71884769, 52.41085077, 53.17608477, 53.97752787,\n",
              "        54.77167022, 55.50689953, 56.11512188, 56.49678729, 56.49678729],\n",
              "       [58.79495602, 58.79495602, 59.46530724, 60.22151943, 61.01963674,\n",
              "        61.81263813, 62.54746949, 63.1555391 , 63.53715188, 63.53715188],\n",
              "       [64.83497397, 64.83497397, 65.42887578, 66.15383164, 66.93983728,\n",
              "        67.72827131, 68.4613977 , 69.06883771, 69.45024468, 69.45024468],\n",
              "       [68.7355993 , 68.7355993 , 69.22477958, 69.91487219, 70.68879854,\n",
              "        71.47294061, 72.20451822, 72.81140038, 73.19262766, 73.19262766],\n",
              "       [68.7355993 , 68.7355993 , 69.22477958, 69.91487219, 70.68879854,\n",
              "        71.47294061, 72.20451822, 72.81140038, 73.19262766, 73.19262766]])"
            ]
          },
          "metadata": {},
          "execution_count": 8
        }
      ]
    },
    {
      "cell_type": "code",
      "source": [
        "!pip install --upgrade tbb\n",
        "\n",
        "\n"
      ],
      "metadata": {
        "colab": {
          "base_uri": "https://localhost:8080/"
        },
        "id": "fGfitu7JRuNw",
        "outputId": "76610dca-a177-434a-e852-39afdcc02ade"
      },
      "execution_count": 5,
      "outputs": [
        {
          "output_type": "stream",
          "name": "stdout",
          "text": [
            "Requirement already satisfied: tbb in /usr/local/lib/python3.7/dist-packages (2021.5.1)\n"
          ]
        }
      ]
    },
    {
      "cell_type": "code",
      "source": [
        "X = np.random.rand(100000) * 100000\n",
        "Y = np.zeros(100000)"
      ],
      "metadata": {
        "id": "uvszpjDPSGCa"
      },
      "execution_count": 159,
      "outputs": []
    },
    {
      "cell_type": "code",
      "source": [
        "%timeit 10\n",
        "roundabunch(X, Y)"
      ],
      "metadata": {
        "colab": {
          "base_uri": "https://localhost:8080/"
        },
        "id": "WFsTvu7dSMhp",
        "outputId": "2d730c49-1481-4f35-a8bf-3fff3259c8a9"
      },
      "execution_count": 160,
      "outputs": [
        {
          "output_type": "stream",
          "name": "stdout",
          "text": [
            "100000000 loops, best of 5: 12.7 ns per loop\n"
          ]
        }
      ]
    },
    {
      "cell_type": "code",
      "source": [
        "print(X)"
      ],
      "metadata": {
        "colab": {
          "base_uri": "https://localhost:8080/"
        },
        "id": "LuMYfqjfSO6Q",
        "outputId": "9ddebe0c-c909-4798-d1bc-9fb9ef167dbc"
      },
      "execution_count": 111,
      "outputs": [
        {
          "output_type": "stream",
          "name": "stdout",
          "text": [
            "[]\n"
          ]
        }
      ]
    },
    {
      "cell_type": "code",
      "source": [
        ""
      ],
      "metadata": {
        "id": "_JPIPgPbTwaS"
      },
      "execution_count": null,
      "outputs": []
    }
  ]
}