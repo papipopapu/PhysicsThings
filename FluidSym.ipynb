{
  "cells": [
    {
      "cell_type": "markdown",
      "metadata": {
        "id": "view-in-github",
        "colab_type": "text"
      },
      "source": [
        "<a href=\"https://colab.research.google.com/github/papipopapu/PhysicsThings/blob/main/FluidSym.ipynb\" target=\"_parent\"><img src=\"https://colab.research.google.com/assets/colab-badge.svg\" alt=\"Open In Colab\"/></a>"
      ]
    },
    {
      "cell_type": "code",
      "execution_count": 5,
      "metadata": {
        "id": "gcJToMS2dKSu"
      },
      "outputs": [],
      "source": [
        "import numpy as np\n",
        "import numba as nb\n",
        "import typing as tp\n",
        "import math"
      ]
    },
    {
      "cell_type": "code",
      "execution_count": 6,
      "metadata": {
        "id": "rMoDNpfPdZH-"
      },
      "outputs": [],
      "source": [
        "from scipy.interpolate import RectBivariateSpline \n",
        "import scipy.sparse\n",
        "import scipy.sparse.linalg\n",
        "import matplotlib.pyplot as plt\n",
        "from matplotlib import colors\n",
        "from matplotlib import animation \n",
        "from matplotlib import rcParams"
      ]
    },
    {
      "cell_type": "code",
      "execution_count": 87,
      "metadata": {
        "id": "KBK6mGHruz6p"
      },
      "outputs": [],
      "source": [
        "\n",
        "@nb.njit()\n",
        "def noForceI(v: np.array, t: float, dt: float):\n",
        "  v += 50 * dt\n",
        "  return v\n",
        "\n",
        "@nb.njit()\n",
        "def noForceJ(u: np.array, t: float, dt: float):\n",
        "  u += 5 * np.sin(t * np.ones(u.shape))\n",
        "\n",
        "  return u\n",
        "\n",
        "@nb.njit()\n",
        "def noInk(ink: np.array, t: float, dt: float):\n",
        "  ink[50:55, 50:55] += dt\n",
        "  return ink\n",
        "\n",
        "\n",
        "@nb.njit([nb.float64[:,:](nb.float64[:,:], nb.float64), nb.float32[:,:](nb.float32[:,:], nb.float32)])\n",
        "def Dx(Field: np.array, dh: float): # its trimmed specially to be added to velocities in x\n",
        "  Dx = Field[:, 1:] - Field[:, :-1]\n",
        "\n",
        "  return Dx/dh\n",
        "\n",
        "\n",
        "@nb.njit([nb.float64[:,:](nb.float64[:,:], nb.float64), nb.float32[:,:](nb.float32[:,:], nb.float32)])\n",
        "def Dy(Field: np.array, dh: float): # its trimmed specially to be added to velocities in y\n",
        "  Dy = Field[1:, :] - Field[:-1, :]\n",
        "\n",
        "  return Dy/dh\n",
        "\n",
        "\n",
        "@nb.njit()\n",
        "def Laplacian(Field: np.array, dh: float): \n",
        "  dx1 = Dx(Field[1:-1, :], dh)\n",
        "  dy1 = Dy(Field[:, 1:-1], dh)\n",
        "  dx2 = Dx(dx1, dh)\n",
        "  dy2 = Dy(dy1, dh)\n",
        "\n",
        "  return dx2 + dy2\n",
        "\n",
        "\n",
        "class fluidThings:\n",
        "  def __init__(self, Ni: int, Nj: int, dh: float, forceSourceI = noForceI, forceSourceJ = noForceJ, inkSource = noInk, alpha = 0.01, ka = 0.1, rho = 1, visc = 1, beta = 0.1): # add you source functions, arguments above\n",
        "    self._beta = beta\n",
        "    self._visc = visc\n",
        "    self._forceSourceJ = forceSourceJ\n",
        "    self._forceSourceI = forceSourceI\n",
        "    self._inkSource = inkSource\n",
        "    self._time = 0\n",
        "    self._Ni = Ni # Number of fluid cells on a dimension\n",
        "    self._Nj = Nj\n",
        "    self._dh = dh # Size of a cell \n",
        "    self._dt = 0.1\n",
        "    self._ka = ka\n",
        "    self._alpha = alpha\n",
        "    self._rho = rho\n",
        "    self._Kp = rho * dh * dh # useful thing\n",
        "\n",
        "    umgrid = np.mgrid[0:Ni, 0:Nj + 1]\n",
        "    vmgrid = np.mgrid[0:Ni + 1, 0:Nj]\n",
        "    smgrid = np.mgrid[0:Ni + 2, 0:Nj + 2]\n",
        "\n",
        "\n",
        "    self._u = np.zeros((Ni, Nj+1)) # Field of vx velocities in walls (named u), to zeros when we can initialize initial conditions with method\n",
        "    self._uSpline = RectBivariateSpline(np.arange(Ni), np.arange(Nj+1), self._u) # Smooth interpolation\n",
        "   # print (self._u ) # to remove check\n",
        "\n",
        "    self._uPos =  fluidThings.uPos(np.vstack((umgrid[0].flatten(), umgrid[1].flatten())), Ni, dh)        \n",
        "    #print (self._uPos)\n",
        "\n",
        "    self._v = np.zeros((Ni+1, Nj)) # Field of vy velocities in walls (named v)\n",
        "    self._vSpline = RectBivariateSpline(np.arange(Ni+1), np.arange(Nj), self._v)\n",
        "   # print (self._v )\n",
        "\n",
        "    self._vPos =  fluidThings.vPos(np.vstack((vmgrid[0].flatten(), vmgrid[1].flatten())), Ni, dh)  \n",
        "\n",
        "\n",
        "    self._p = np.arange((Ni)*(Nj)).reshape(Ni, Nj)\n",
        "    #self._pSpline = RectBivariateSpline(np.arange(Ni+2), np.arange(Nj+2), self._p) \n",
        "  #  print (self._p )\n",
        "\n",
        "    # in general, we also define scalars inside solid cells, but we dont need to do it for pressure\n",
        "    self._ink = np.zeros((Ni+2, Nj+2))\n",
        "    self._inkSpline = RectBivariateSpline(np.arange(Ni+2), np.arange(Nj+2), self._ink) # zero on solid cell walls?\n",
        "   # print (self._ink ) # to remove check\n",
        "\n",
        "    self._sPos =  fluidThings.sPos(np.vstack((smgrid[0].flatten(), smgrid[1].flatten())), Ni, dh)  \n",
        "\n",
        "    diags = fluidThings.diagsA(Ni, Nj)\n",
        "    pos = np.array([-Nj, -1, 0, 1, Nj])\n",
        "    self._sA = scipy.sparse.spdiags(diags, pos, Ni*Nj, Ni*Nj, format = 'csr')\n",
        "\n",
        "\n",
        "  @staticmethod\n",
        "  @nb.njit()\n",
        "  def diagsA(Ni: int, Nj: int):\n",
        "    Nt = Ni * Nj\n",
        "    diags = np.zeros((5, Ni*Nj)) #[[top], [left], [mid], [right], [down]]\n",
        "    top = np.zeros(Nt)\n",
        "    left = np.zeros(Nt)\n",
        "    mid = np.zeros(Nt)\n",
        "    right = np.zeros(Nt)\n",
        "    down = np.zeros(Nt)\n",
        "    k = 0\n",
        "    for i in np.arange(Ni):\n",
        "      for j in np.arange(Nj):\n",
        "        adjF = 0\n",
        "        if (i > 0):# theres space on top\n",
        "          adjF += 1\n",
        "          top[k] = 1\n",
        "        if (j > 0):# theres space left\n",
        "          adjF += 1\n",
        "          left[k] = 1\n",
        "        if (i < Ni - 1): # theres space  down\n",
        "          adjF += 1\n",
        "          down[k] = 1\n",
        "        if (j < Nj - 1): # threses space right\n",
        "          adjF += 1\n",
        "          right[k] = 1\n",
        "        mid[k] = -adjF\n",
        "        k += 1\n",
        "    diags[0, :Nt-Nj] = top[Nj:]\n",
        "    diags[4, Nj:] = down[:Nt-Nj]\n",
        "    diags[1, :Nt-1] = left[1:]\n",
        "    diags[3, 1:] = right[:Nt-1]\n",
        "    diags[2, :] = mid\n",
        "  \n",
        "    \n",
        "    \n",
        "    \n",
        "   \n",
        "\n",
        "    return diags\n",
        "\n",
        "    \n",
        "  \n",
        "\n",
        "\n",
        "  @staticmethod\n",
        "  @nb.njit()\n",
        "  def uIdx(r: np.array, Ni: int, dh: float): # idx = [[ui],[uj]], this functions gets x,y and returns indices for u \n",
        "    idx = np.zeros((2, r[0].size));\n",
        "    xScaled = r[0]/dh \n",
        "    yScaled = r[1]/dh\n",
        "\n",
        "    idx[0] = -yScaled + Ni - 0.5 # u_i\n",
        "    idx[1] = xScaled # u_j\n",
        "\n",
        "\n",
        "    return idx\n",
        "\n",
        "  @staticmethod\n",
        "  @nb.njit()\n",
        "  def vIdx(r: np.array, Ni: int, dh: float): # idx = [[vi],[vj]], this functions gets x,y and returns indices for v\n",
        "    idx = np.zeros((4, r[0].size));\n",
        "    xScaled = r[0]/dh \n",
        "    yScaled = r[1]/dh\n",
        "\n",
        "    idx[0] = -yScaled + Ni # v_i\n",
        "    idx[1] = xScaled - 0.5 # v_j\n",
        "\n",
        "    return idx\n",
        "\n",
        "    \n",
        "  @staticmethod\n",
        "  @nb.njit()\n",
        "  def sIdx(r: np.array, Ni: int, dh: float): # idx = [[si],[sj]] , for ink or pressure\n",
        "    idx = np.zeros((2, r[0].size));\n",
        "\n",
        "    idx[0] = Ni - r[1]/dh + 0.5 # u_j\n",
        "    idx[1] = r[0]/dh + 0.5\n",
        "\n",
        "    return idx\n",
        "  \n",
        "  @staticmethod\n",
        "  @nb.njit() # now we give idx and get position xy\n",
        "  def uPos(idx: np.array, Ni: int, dh: float):\n",
        "    r = np.zeros((2, idx[0].size))\n",
        "\n",
        "    r[1] = (Ni - idx[0] - 0.5) * dh # y\n",
        "    r[0] = idx[1] * dh # x\n",
        "\n",
        "    return r\n",
        "\n",
        "  @staticmethod\n",
        "  @nb.njit() # now we give idx and get position xy\n",
        "  def vPos(idx: np.array, Ni: int, dh: float):\n",
        "    r = np.zeros((2, idx[0].size))\n",
        "\n",
        "    r[1] = (Ni - idx[0]) * dh # y\n",
        "    r[0] = (idx[1] + 0.5) * dh # x\n",
        "\n",
        "    return r\n",
        "\n",
        "  @staticmethod\n",
        "  @nb.njit() # now we give idx and get position xy\n",
        "  def sPos(idx: np.array, Ni: int, dh: float):\n",
        "    r = np.zeros((2, idx[0].size))\n",
        "\n",
        "    r[1] = (Ni - idx[0] + 0.5) * dh # y\n",
        "    r[0] = (idx[1] - 0.5) * dh # x\n",
        "\n",
        "    return r\n",
        "\n",
        "  \n",
        "\n",
        "  @staticmethod\n",
        "  @nb.njit()\n",
        "  def dtGet(u: np.array, v: np.array, dh: float):\n",
        "    mod = u[:, 1:] ** 2 + v[1:, :] ** 2 # not quite but idk besiuñagt\n",
        "    maxu = np.amax(mod)\n",
        "    dt = max(5 * dh / (math.sqrt(maxu) + 1e-7), 0.01)\n",
        "    return dt\n",
        "\n",
        "  def fu(self, r: np.array): # r = [[x],[y]], return u\n",
        "    idx = self.uIdx(r, self._Ni, self._dh); # get indices\n",
        "    u = self._uSpline.ev(idx[0], idx[1]) # interpolate\n",
        "    return u\n",
        "\n",
        "  def fv(self, r: np.array): # r = [[x],[y]], return v\n",
        "    idx = self.vIdx(r, self._Ni, self._dh); # get indices\n",
        "    v = self._vSpline.ev(idx[0], idx[1]) # interpolate \n",
        "    return v\n",
        "\n",
        "  def fp(self, r: np.array): # return [p]\n",
        "    idx = self.sIdx(r, self._Ni, self._dh); # get indices\n",
        "    p = self._pSpline.ev(idx[0], idx[1])\n",
        "\n",
        "    return p\n",
        "\n",
        "  def fink(self, r: np.array): # return [ink]\n",
        "    idx = self.sIdx(r, self._Ni, self._dh); # get indices\n",
        "    ink = self._inkSpline.ev(idx[0], idx[1])\n",
        "\n",
        "    return ink\n",
        "\n",
        "  def backHeun(self, r: np.array): # r = [[x], [y]] \n",
        "    umid = np.vstack((self.fu(r), self.fv(r)))\n",
        "    rmid = r - self._dt * umid\n",
        "    rn = r - self._dt * 0.5 * (umid + np.vstack((self.fu(r), self.fv(r))))\n",
        "\n",
        "    return rn\n",
        "\n",
        "  def updateSplines(self):\n",
        "    self._uSpline = RectBivariateSpline(np.arange(self._Ni), np.arange(self._Nj+1), self._u) \n",
        "    self._vSpline = RectBivariateSpline(np.arange(self._Ni+1), np.arange(self._Nj), self._v) \n",
        "    self._inkSpline = RectBivariateSpline(np.arange(self._Ni+2), np.arange(self._Nj+2), self._ink)\n",
        "\n",
        "  def addSources(self):\n",
        "    self._u = self._forceSourceJ(self._u, self._time, self._dt) \n",
        "    self._v = self._forceSourceI(self._v, self._time, self._dt)\n",
        "    self._ink = self._inkSource(self._ink, self._time, self._dt)\n",
        "\n",
        "  def enforceBounds(self):\n",
        "    self._u[:, 0] = 0; self._u[:, self._Nj] = 0\n",
        "    self._v[0, :] = 0; self._v[self._Ni, :] = 0\n",
        "    self._ink[0, :] = 0; self._ink[self._Ni+1, :] = 0; self._ink[:, 0] = 0; self._ink[:, self._Nj+1] = 0\n",
        "  \n",
        "  def advectAll(self):\n",
        "    tempu = (self.fu( self.backHeun (self._uPos) )).reshape(self._Ni , self._Nj + 1) # Advect velocities\n",
        "    tempv = (self.fv( self.backHeun (self._vPos) )).reshape(self._Ni + 1, self._Nj)\n",
        "    self._ink = (self.fink( self.backHeun (self._sPos) )).reshape(self._Ni+2, self._Nj+2) # Advect ink\n",
        "    self._u = tempu\n",
        "    self._v = tempv\n",
        "\n",
        "  def diffAndDissInk(self):\n",
        "    self._ink[1:-1, 1:-1] += self._dt * self._ka * Laplacian(self._ink, self._dh) # missing conserve ink\n",
        "    self._ink -= self._dt * self._alpha * self._ink\n",
        "\n",
        "  def initialConditions(self, u: np.array, v: np.array, p: np.array, ink: np.array,  dt: float):\n",
        "    self._dt = dt\n",
        "    self._u = u\n",
        "    self._v = v\n",
        "    self._p = p\n",
        "    self._ink = ink\n",
        "    self.updateSplines()\n",
        "\n",
        "  def makeIncompressible(self):\n",
        "    b =  (Dx(self._u, self._dh) + Dy(self._v, self._dh)).flatten()\n",
        "    Ps = self._Kp * scipy.sparse.linalg.spsolve(self._sA, b)\n",
        "    self._p = Ps.reshape(self._Ni, self._Nj)\n",
        "    self._u[:, 1:-1] -= Dx(self._p, self._dh)/self._rho\n",
        "    self._v[1:-1, :] -= Dy(self._p, self._dh)/self._rho\n",
        "\n",
        "\n",
        "\n",
        "  \n",
        "  def step(self):\n",
        "\n",
        "    # self._dt = fluidThings.dtGet(self._u, self._v, self._dh) # get time step\n",
        "    # Add forces and sources\n",
        "    self.addSources()\n",
        "\n",
        "    # Enforce boundaries\n",
        "    self.enforceBounds()\n",
        "\n",
        "    # Update splines\n",
        "    self.updateSplines()\n",
        "\n",
        "    # Advect\n",
        "    self.advectAll()\n",
        "\n",
        "    # Diffuse and dissipate ink\n",
        "    self.diffAndDissInk()\n",
        "\n",
        "    # Missing: diffuse velocities, \n",
        "    \n",
        "\n",
        "    # Make incompressible\n",
        "    self.makeIncompressible()\n",
        "\n",
        "    #plt.imshow(self._ink, vmin = 0, vmax = 1)\n",
        "    #print (self._u)\n",
        "    # Update splines\n",
        "    self.updateSplines()\n",
        "\n",
        "    self.advectAll()\n",
        "    self.updateSplines()\n",
        "    # ... \n",
        "    self._time += self._dt\n",
        "    \n",
        "\n",
        "    return self._ink\n",
        "\n",
        "\n",
        "\n",
        "\n"
      ]
    },
    {
      "cell_type": "code",
      "execution_count": 88,
      "metadata": {
        "id": "lcT2QvGjlhVm",
        "colab": {
          "base_uri": "https://localhost:8080/",
          "height": 267
        },
        "outputId": "65ec5196-4ed6-40c9-a844-3a246adf728d"
      },
      "outputs": [
        {
          "output_type": "display_data",
          "data": {
            "image/png": "[encoded data removed]",
            "text/plain": [
              "<Figure size 432x288 with 1 Axes>"
            ]
          },
          "metadata": {
            "needs_background": "light"
          }
        }
      ],
      "source": [
        "Ni = 100\n",
        "Nj = 100\n",
        "fluid = fluidThings(Ni, Nj, 1)\n",
        "p = np.zeros((Ni, Nj))\n",
        "\n",
        "u = np.zeros((Ni, Nj+1))\n",
        "v = np.ones((Ni+1, Nj))*10\n",
        "ink = np.zeros((Ni+2, Nj+2))\n",
        "ink[50:55, 50:55] = 1\n",
        "plt.imshow(ink, vmin = 0, vmax = 1)\n",
        "\n",
        "fluid.initialConditions(u, v, p, ink, 0.1)"
      ]
    },
    {
      "cell_type": "code",
      "source": [
        "fluid.step()"
      ],
      "metadata": {
        "colab": {
          "base_uri": "https://localhost:8080/"
        },
        "id": "-jKxaHmE1LHo",
        "outputId": "96e92e2c-4cea-4bac-f022-4c18338c5737"
      },
      "execution_count": 84,
      "outputs": [
        {
          "output_type": "execute_result",
          "data": {
            "text/plain": [
              "array([[ 6.54620251e-74,  9.24918310e-70, -6.08764380e-70, ...,\n",
              "         1.06088807e-67,  4.75233823e-69,  0.00000000e+00],\n",
              "       [ 2.57248558e-69, -5.79939818e-55,  1.57571984e-54, ...,\n",
              "         9.50880302e-53, -2.99972361e-53,  0.00000000e+00],\n",
              "       [-9.38564917e-69,  2.11252136e-54, -5.73973768e-54, ...,\n",
              "        -3.46368945e-52,  1.09268990e-52,  0.00000000e+00],\n",
              "       ...,\n",
              "       [ 4.53530518e-69, -7.54408520e-55,  2.04980076e-54, ...,\n",
              "         1.23696781e-52, -3.90219763e-53,  0.00000000e+00],\n",
              "       [-2.88848410e-69,  6.21622759e-55, -1.68942389e-54, ...,\n",
              "        -1.01949296e-52,  3.21574321e-53,  0.00000000e+00],\n",
              "       [ 0.00000000e+00,  0.00000000e+00,  0.00000000e+00, ...,\n",
              "         0.00000000e+00,  0.00000000e+00,  0.00000000e+00]])"
            ]
          },
          "metadata": {},
          "execution_count": 84
        }
      ]
    },
    {
      "cell_type": "code",
      "source": [
        "fluid._u"
      ],
      "metadata": {
        "colab": {
          "base_uri": "https://localhost:8080/"
        },
        "id": "tuFYE8lE1vcj",
        "outputId": "8aa53874-b575-45e0-89ed-e6339a9c2214"
      },
      "execution_count": 85,
      "outputs": [
        {
          "output_type": "execute_result",
          "data": {
            "text/plain": [
              "array([[-1.10405967e-17, -2.17603713e-14, -1.15463195e-14, ...,\n",
              "         1.95954364e-14,  1.75415238e-14,  0.00000000e+00],\n",
              "       [-9.36305264e-18, -1.75415238e-14, -3.04201109e-14, ...,\n",
              "        -2.38142839e-14,  1.38777878e-14,  0.00000000e+00],\n",
              "       [-1.83236069e-18,  3.14193116e-14, -6.91668944e-14, ...,\n",
              "         3.68594044e-14, -1.25455202e-14,  0.00000000e+00],\n",
              "       ...,\n",
              "       [-6.83006518e-18, -9.43689571e-16,  6.11732887e-14, ...,\n",
              "        -7.39408534e-14,  4.18554080e-14,  0.00000000e+00],\n",
              "       [-1.72653252e-18, -1.53765889e-14,  5.88418203e-15, ...,\n",
              "         4.13558077e-14, -2.44249065e-15,  0.00000000e+00],\n",
              "       [-3.11225573e-18, -1.79856130e-14,  5.48450174e-14, ...,\n",
              "        -2.90323321e-14,  4.26325641e-14,  0.00000000e+00]])"
            ]
          },
          "metadata": {},
          "execution_count": 85
        }
      ]
    },
    {
      "cell_type": "code",
      "source": [
        "fluid._v"
      ],
      "metadata": {
        "colab": {
          "base_uri": "https://localhost:8080/"
        },
        "id": "ZwEnvHzm17Wp",
        "outputId": "9153fb1e-de45-4b78-8f7f-bf87aa975984"
      },
      "execution_count": 86,
      "outputs": [
        {
          "output_type": "execute_result",
          "data": {
            "text/plain": [
              "array([[-5.50824873e-17, -2.40041524e-16,  3.23330358e-17, ...,\n",
              "        -3.43809502e-17, -6.98148451e-17, -1.34811594e-16],\n",
              "       [ 4.88498131e-14, -8.88178420e-16,  3.55271368e-15, ...,\n",
              "         1.95399252e-14, -4.44089210e-14, -7.10542736e-15],\n",
              "       [-3.46389584e-14,  3.64153152e-14, -1.33226763e-14, ...,\n",
              "        -5.32907052e-14,  1.86517468e-14, -2.48689958e-14],\n",
              "       ...,\n",
              "       [-5.32907052e-15, -1.59872116e-14, -2.66453526e-14, ...,\n",
              "        -6.03961325e-14,  5.32907052e-14,  3.64153152e-14],\n",
              "       [-4.44089210e-14, -4.92939023e-14, -2.66453526e-15, ...,\n",
              "         2.79776202e-14, -4.88498131e-14, -2.88657986e-14],\n",
              "       [ 0.00000000e+00,  0.00000000e+00,  0.00000000e+00, ...,\n",
              "         0.00000000e+00,  0.00000000e+00,  0.00000000e+00]])"
            ]
          },
          "metadata": {},
          "execution_count": 86
        }
      ]
    },
    {
      "cell_type": "code",
      "execution_count": 89,
      "metadata": {
        "colab": {
          "base_uri": "https://localhost:8080/",
          "height": 267
        },
        "id": "TJv3qluoEXxo",
        "outputId": "1097d225-6421-4d87-852c-3fe276a81757"
      },
      "outputs": [
        {
          "output_type": "display_data",
          "data": {
            "image/png": "[encoded data removed]",
            "text/plain": [
              "<Figure size 432x288 with 1 Axes>"
            ]
          },
          "metadata": {
            "needs_background": "light"
          }
        }
      ],
      "source": [
        "\n",
        "\n",
        "fig = plt.figure()\n",
        "axis = plt.axes()\n",
        "def animate(i):\n",
        "  global fluid\n",
        "  axis.clear()\n",
        "  ink = fluid.step()\n",
        "  image = axis.imshow(ink, vmin = 0, vmax = 1)\n",
        "  return image\n",
        "myAnim = animation.FuncAnimation(fig, animate, interval = 50, frames = 200)\n",
        "\n",
        "f = '/content/drive/MyDrive/Animaciones/test.gif'\n",
        "writervideo = animation.PillowWriter(fps=30) \n",
        "\n",
        "myAnim.save(f, writer = writervideo)\n",
        "\n",
        "  \n",
        "\n"
      ]
    },
    {
      "cell_type": "code",
      "execution_count": null,
      "metadata": {
        "id": "QnxlVuRJr05F"
      },
      "outputs": [],
      "source": [
        ""
      ]
    }
  ],
  "metadata": {
    "colab": {
      "collapsed_sections": [],
      "name": "FluidSym.ipynb",
      "provenance": [],
      "mount_file_id": "1Tj5BhJWBVNMWIISz-KOLD2CczEVMltPi",
      "authorship_tag": "ABX9TyNDz9nz8q1kBPy257firR0h",
      "include_colab_link": true
    },
    "kernelspec": {
      "display_name": "Python 3",
      "name": "python3"
    },
    "language_info": {
      "name": "python"
    }
  },
  "nbformat": 4,
  "nbformat_minor": 0
}