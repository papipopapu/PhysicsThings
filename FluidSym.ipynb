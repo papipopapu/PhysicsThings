{
  "nbformat": 4,
  "nbformat_minor": 0,
  "metadata": {
    "colab": {
      "name": "FluidSym.ipynb",
      "provenance": [],
      "authorship_tag": "ABX9TyMsdBeYOkma28aJM8ZKjbsS",
      "include_colab_link": true
    },
    "kernelspec": {
      "name": "python3",
      "display_name": "Python 3"
    },
    "language_info": {
      "name": "python"
    }
  },
  "cells": [
    {
      "cell_type": "markdown",
      "metadata": {
        "id": "view-in-github",
        "colab_type": "text"
      },
      "source": [
        "<a href=\"https://colab.research.google.com/github/papipopapu/PhysicsThings/blob/main/FluidSym.ipynb\" target=\"_parent\"><img src=\"https://colab.research.google.com/assets/colab-badge.svg\" alt=\"Open In Colab\"/></a>"
      ]
    },
    {
      "cell_type": "code",
      "execution_count": 1,
      "metadata": {
        "id": "gcJToMS2dKSu"
      },
      "outputs": [],
      "source": [
        "import numpy as np\n",
        "import numba as nb\n",
        "import typing as tp"
      ]
    },
    {
      "cell_type": "code",
      "source": [
        "from scipy.interpolate import RectBivariateSpline "
      ],
      "metadata": {
        "id": "rMoDNpfPdZH-"
      },
      "execution_count": 2,
      "outputs": []
    },
    {
      "cell_type": "code",
      "source": [
        "x = np.arange(10)\n",
        "y = np.arange(10)\n",
        "z = np.arange(100)\n",
        "z = z.reshape((10,10))"
      ],
      "metadata": {
        "id": "rQwmZyFMsM6Z"
      },
      "execution_count": null,
      "outputs": []
    },
    {
      "cell_type": "code",
      "source": [
        "mySpline = RectBivariateSpline(x, y, z)"
      ],
      "metadata": {
        "id": "AKCvRenMr7Xa"
      },
      "execution_count": null,
      "outputs": []
    },
    {
      "cell_type": "code",
      "source": [
        "h = mySpline.ev([0,0], [1,4.5])\n",
        "h"
      ],
      "metadata": {
        "colab": {
          "base_uri": "https://localhost:8080/"
        },
        "id": "5HClD1nfs9fR",
        "outputId": "82b70b75-d64a-4df5-e092-e13bdc39929c"
      },
      "execution_count": null,
      "outputs": [
        {
          "output_type": "execute_result",
          "data": {
            "text/plain": [
              "array([1. , 4.5])"
            ]
          },
          "metadata": {},
          "execution_count": 35
        }
      ]
    },
    {
      "cell_type": "code",
      "source": [
        "z"
      ],
      "metadata": {
        "colab": {
          "base_uri": "https://localhost:8080/"
        },
        "id": "piD_PqoHtNEJ",
        "outputId": "3dfc07e3-51c7-43ba-a95c-7a098eaa94e6"
      },
      "execution_count": null,
      "outputs": [
        {
          "output_type": "execute_result",
          "data": {
            "text/plain": [
              "array([[ 0,  1,  2,  3,  4,  5,  6,  7,  8,  9],\n",
              "       [10, 11, 12, 13, 14, 15, 16, 17, 18, 19],\n",
              "       [20, 21, 22, 23, 24, 25, 26, 27, 28, 29],\n",
              "       [30, 31, 32, 33, 34, 35, 36, 37, 38, 39],\n",
              "       [40, 41, 42, 43, 44, 45, 46, 47, 48, 49],\n",
              "       [50, 51, 52, 53, 54, 55, 56, 57, 58, 59],\n",
              "       [60, 61, 62, 63, 64, 65, 66, 67, 68, 69],\n",
              "       [70, 71, 72, 73, 74, 75, 76, 77, 78, 79],\n",
              "       [80, 81, 82, 83, 84, 85, 86, 87, 88, 89],\n",
              "       [90, 91, 92, 93, 94, 95, 96, 97, 98, 99]])"
            ]
          },
          "metadata": {},
          "execution_count": 25
        }
      ]
    },
    {
      "cell_type": "code",
      "source": [
        "for i in range(100):\n",
        "  m = RectBivariateSpline(x, y, np.random.rand(10,10))"
      ],
      "metadata": {
        "id": "97ljBNWWtmMZ"
      },
      "execution_count": null,
      "outputs": []
    },
    {
      "cell_type": "code",
      "source": [
        "\n",
        "\n",
        "\n",
        "class fluidThings:\n",
        "  def __init__(self, N: int, dh: float):\n",
        "    self.__N = N # Number of fluid cells on a row or column (for now we have a square)\n",
        "    self.__dh = dh # Size of a cell \n",
        "\n",
        "    longT = np.arange(N+1) # temp things\n",
        "    shortT = np.arange(N)\n",
        "\n",
        "    self.__u = np.arange(N*(N+1)).reshape(N, N+1) # Field of vx velocities in walls (named u)\n",
        "    self.__uSpline = RectBivariateSpline(shortT, longT, self.__u) # Smooth interpolation\n",
        "    print (self.__u ) # to remove check\n",
        "\n",
        " \n",
        "    self.__v = np.arange(N*(N+1)).reshape(N+1, N) # Field of vy velocities in walls (named v)\n",
        "    self.__vSpline = RectBivariateSpline(longT, shortT, self.__v)\n",
        "    print (self.__v )\n",
        "\n",
        "  @staticmethod\n",
        "  @nb.njit()\n",
        "  def rToUij(r: np.array, N: int, dh: float): # ret = [[ui],[uj],[vi],[vj]], this functions gets x,y and returns indices for u and v in np.array\n",
        "    ret = np.zeros((4, r[0].size));\n",
        "    xScaled = r[0]/dh # temp useful things\n",
        "    yScaled = r[1]/dh\n",
        "\n",
        "    ret[0] = -yScaled + N - 0.5 # u_i\n",
        "    ret[1] = xScaled # u_j\n",
        "    ret[2] = -yScaled + N # v_i\n",
        "    ret[3] = xScaled - 0.5 # v_j\n",
        "\n",
        "    return ret\n",
        "\n",
        "\n",
        "  def fG(self, r: np.array): # r = [[x],[y]]\n",
        "\n",
        "    idx = self.rToUij(r, self.__N, self.__dh); # get indices\n",
        "    uVector = np.vstack((self.__uSpline.ev(idx[0], idx[1]), self.__vSpline.ev(idx[2], idx[3]))) # interpolate whole vector\n",
        "\n",
        "    return uVector\n",
        "\n",
        "\n",
        "\n"
      ],
      "metadata": {
        "id": "KBK6mGHruz6p"
      },
      "execution_count": 66,
      "outputs": []
    },
    {
      "cell_type": "code",
      "source": [
        "fluid = fluidThings(10, 1)"
      ],
      "metadata": {
        "colab": {
          "base_uri": "https://localhost:8080/"
        },
        "id": "lcT2QvGjlhVm",
        "outputId": "f594fd6c-f24e-45a4-bc4e-a5c5f6920d2f"
      },
      "execution_count": 67,
      "outputs": [
        {
          "output_type": "stream",
          "name": "stdout",
          "text": [
            "[[  0   1   2   3   4   5   6   7   8   9  10]\n",
            " [ 11  12  13  14  15  16  17  18  19  20  21]\n",
            " [ 22  23  24  25  26  27  28  29  30  31  32]\n",
            " [ 33  34  35  36  37  38  39  40  41  42  43]\n",
            " [ 44  45  46  47  48  49  50  51  52  53  54]\n",
            " [ 55  56  57  58  59  60  61  62  63  64  65]\n",
            " [ 66  67  68  69  70  71  72  73  74  75  76]\n",
            " [ 77  78  79  80  81  82  83  84  85  86  87]\n",
            " [ 88  89  90  91  92  93  94  95  96  97  98]\n",
            " [ 99 100 101 102 103 104 105 106 107 108 109]]\n",
            "[[  0   1   2   3   4   5   6   7   8   9]\n",
            " [ 10  11  12  13  14  15  16  17  18  19]\n",
            " [ 20  21  22  23  24  25  26  27  28  29]\n",
            " [ 30  31  32  33  34  35  36  37  38  39]\n",
            " [ 40  41  42  43  44  45  46  47  48  49]\n",
            " [ 50  51  52  53  54  55  56  57  58  59]\n",
            " [ 60  61  62  63  64  65  66  67  68  69]\n",
            " [ 70  71  72  73  74  75  76  77  78  79]\n",
            " [ 80  81  82  83  84  85  86  87  88  89]\n",
            " [ 90  91  92  93  94  95  96  97  98  99]\n",
            " [100 101 102 103 104 105 106 107 108 109]]\n"
          ]
        }
      ]
    },
    {
      "cell_type": "code",
      "source": [
        "r = np.array([[9.5],[10]]) \n",
        "u = fluid.fG(r)"
      ],
      "metadata": {
        "colab": {
          "base_uri": "https://localhost:8080/"
        },
        "id": "No6-KRu30AGr",
        "outputId": "42a2dcfd-9542-409c-82b0-7c22ffd7986a"
      },
      "execution_count": 70,
      "outputs": [
        {
          "output_type": "stream",
          "name": "stdout",
          "text": [
            "ret:\n",
            "[[-0.5]\n",
            " [ 9.5]\n",
            " [ 0. ]\n",
            " [ 9. ]]\n"
          ]
        }
      ]
    },
    {
      "cell_type": "code",
      "source": [
        "u"
      ],
      "metadata": {
        "colab": {
          "base_uri": "https://localhost:8080/"
        },
        "id": "tLUIdWew0mMp",
        "outputId": "18e1ca7f-2e08-4f23-f94d-c76aa7ccdb5f"
      },
      "execution_count": 71,
      "outputs": [
        {
          "output_type": "execute_result",
          "data": {
            "text/plain": [
              "array([[9.5],\n",
              "       [9. ]])"
            ]
          },
          "metadata": {},
          "execution_count": 71
        }
      ]
    },
    {
      "cell_type": "code",
      "source": [
        ""
      ],
      "metadata": {
        "id": "Gx6GNe5U3PVT"
      },
      "execution_count": null,
      "outputs": []
    }
  ]
}