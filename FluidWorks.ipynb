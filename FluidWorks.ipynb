{
  "nbformat": 4,
  "nbformat_minor": 0,
  "metadata": {
    "colab": {
      "name": "FluidWorks.ipynb",
      "provenance": [],
      "authorship_tag": "ABX9TyNS1WUWymCBthQCxtX/a1/S",
      "include_colab_link": true
    },
    "kernelspec": {
      "name": "python3",
      "display_name": "Python 3"
    },
    "language_info": {
      "name": "python"
    }
  },
  "cells": [
    {
      "cell_type": "markdown",
      "metadata": {
        "id": "view-in-github",
        "colab_type": "text"
      },
      "source": [
        "<a href=\"https://colab.research.google.com/github/papipopapu/PhysicsThings/blob/main/FluidWorks.ipynb\" target=\"_parent\"><img src=\"https://colab.research.google.com/assets/colab-badge.svg\" alt=\"Open In Colab\"/></a>"
      ]
    },
    {
      "cell_type": "code",
      "execution_count": 1,
      "metadata": {
        "id": "k3LALsbtNt2i"
      },
      "outputs": [],
      "source": [
        "import numpy as np\n",
        "import numba as nb\n",
        "import typing as tp\n",
        "import matplotlib.pyplot as plt\n",
        "from matplotlib import animation "
      ]
    },
    {
      "cell_type": "code",
      "source": [
        "\n",
        "@nb.njit\n",
        "def setBounds(S: np.array, bType: int):\n",
        "  Ni = S.shape[0]; Nj = S.shape[1] \n",
        "  if bType is 1:\n",
        "    S[:, 0] = -S[:, 1];    S[:, Nj-1] = -S[:, Nj-2];    S[0, :] = S[1, :];      S[Ni-1, :] = S[Ni-2, :]; \n",
        "  elif bType is 2:\n",
        "    S[:, 0] = S[:, 1];     S[:, Nj-1] = S[:, Nj-2];     S[0, :] = -S[1, :];     S[Ni-1, :] = -S[Ni-2, :]; \n",
        "  else:\n",
        "    S[:, 0] = S[:, 1];     S[:, Nj-1] = S[:, Nj-2];     S[0, :] = S[1, :];      S[Ni-1, :] = S[Ni-2, :]; \n",
        "\n",
        "  S[0, 0] = 0.5 * (S[1, 0] + S[0, 1]); S[0, Nj-1] = 0.5 * (S[1, Nj-1] + S[0, Nj-2])\n",
        "  S[Ni-1, Nj-1] = 0.5 * (S[Ni-2, Nj-1] + S[Ni-1, Nj-2]); S[Ni-1, 0] = 0.5 * (S[Ni-1, 1] + S[Ni-2, 0])\n",
        "\n",
        "@nb.njit\n",
        "def Advect(S1: np.array, S0: np.array, u: np.array, v: np.array, boundType: int, dh: float, dt: float):\n",
        "  Ni = S0.shape[0]; Nj = S0.shape[1]\n",
        "  dtp = dt/dh\n",
        "  for i in nb.prange(1, Ni - 1):\n",
        "    for j in np.arange(1, Nj - 1):\n",
        "       jp = j - dtp * u[i, j]; ip = i + dtp * v[i, j] # it makes sense\n",
        "       if jp < 0.5 : jp = 0.5\n",
        "       if ip < 0.5 : ip = 0.5\n",
        "       if jp > Nj - 1.5 : jp = Nj - 1.5\n",
        "       if ip > Ni - 1.5 : ip = Ni - 1.5;\n",
        "       iTop = int(ip); jLeft = int(jp); iBottom = int(ip+1); jRight = int(jp+1)\n",
        "       interpY = (ip-iTop)/(iBottom-iTop); interpX = (jp-jLeft)/(jRight-jLeft)\n",
        "       SL = S0[iTop, jLeft]  * (1 - interpY) + S0[iBottom, jLeft]  *  interpY\n",
        "       SR = S0[iTop, jRight] * (1 - interpY) + S0[iBottom, jRight] *  interpY\n",
        "       S1[i, j] =         SL * (1 - interpX) +                  SR *  interpX\n",
        "  setBounds(S1, boundType)\n",
        "\n",
        "@nb.njit\n",
        "def Project(u: np.array, v: np.array, div: np.array, p: np.array, dh: float):\n",
        "  Ni = u.shape[0]; Nj = u.shape[1]; dhp = 1/dh\n",
        "  for i in nb.prange(1, Ni - 1):\n",
        "    for j in np.arange(1, Nj - 1):\n",
        "      div[i, j] = u[i, j+1] - u[i, j-1] + v[i-1, j] - v[i+1, j]\n",
        "  setBounds(p, 0)\n",
        "  for k in np.arange(20):\n",
        "    for i in np.arange(1, Ni - 1):\n",
        "      for j in np.arange(1, Nj - 1):\n",
        "        p[i, j] = (-0.5 * dh * div[i, j] + p[i+1, j] + p[i-1, j] + p[i, j+1] + p[i, j-1])/4\n",
        "    setBounds(p, 0)\n",
        "  for i in np.arange(1, Ni - 1):\n",
        "      for j in np.arange(1, Nj - 1):\n",
        "        u[i, j] -= 0.5 * (p[i, j+1] - p[i, j-1]) * dhp\n",
        "        v[i, j] -= 0.5 * (p[i-1, j] - p[i+1, j]) * dhp\n",
        "  setBounds(u, 1); setBounds(v, 2)\n",
        "\n",
        "@nb.njit\n",
        "def noSource(S: np.array, dt: np.array, t: np.array):\n",
        "  pass\n",
        "\n",
        "class Fluid:\n",
        "  def __init__(self, Ni: int, Nj: int, dh: float, u0: np.array, v0: np.array, p0: np.array, s0: np.array, visc = 1, viscS = 1, uSource = noSource, vSource = noSource, sSource = noSource):\n",
        "    self._u1 = u0; self._u0 = np.zeros((Ni+2, Nj+2)); self._uSource = uSource\n",
        "    self._v1 = v0; self._v0 = np.zeros((Ni+2, Nj+2)); self._vSource = vSource\n",
        "\n",
        "    self._p = p0\n",
        "    self._div = np.zeros((Ni+2, Nj+2))\n",
        "    self._s1 = s0; self._s0 = np.zeros((Ni+2, Nj+2)); self._sSource = sSource\n",
        "\n",
        "    self._dt = 1\n",
        "    self._t = 0\n",
        "    self._dh = dh\n",
        "    self._visc = 1; self._viscS = viscS\n",
        "    self._dens = 1\n",
        "\n",
        "  def vStep(self):\n",
        "    self._uSource(self._u1, self._dt, self._t); self._vSource(self._v1, self._dt, self._t) \n",
        "    setBounds(self._u1, 1); setBounds(self._v1, 2);\n",
        "    self._u0 = self._u1; self._v0 = self._v1 #\n",
        "    Advect(self._u1, self._u0, self._u0, self._v0, 1, self._dh, self._dt)\n",
        "    Advect(self._v1, self._v0, self._u0, self._v0, 2, self._dh, self._dt)\n",
        "    Project(self._u1, self._v1, self._div, self._p, self._dh)\n",
        "\n",
        "  def sStep(self):\n",
        "    self._sSource(self._s1, self._dt, self._t)\n",
        "    setBounds(self._s1, 0)\n",
        "    self._s0 = self._s1\n",
        "    Advect(self._s1, self._s0, self._u1, self._v1, 0, self._dh, self._dt)\n",
        "  \n",
        "  def step(self, dt):\n",
        "    self._dt = dt\n",
        "    self.vStep()\n",
        "    self.sStep()\n",
        "    self._t += self._dt\n"
      ],
      "metadata": {
        "id": "ltDO3SLSN4Mf"
      },
      "execution_count": null,
      "outputs": []
    }
  ]
}