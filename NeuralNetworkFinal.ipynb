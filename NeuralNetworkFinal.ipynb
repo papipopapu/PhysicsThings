{
  "cells": [
    {
      "cell_type": "code",
      "execution_count": 2,
      "id": "b4016cb4",
      "metadata": {
        "id": "b4016cb4"
      },
      "outputs": [],
      "source": [
        "import numpy as np\n",
        "import typing as tp\n",
        "import math\n",
        "import inspect\n",
        "def check(bruh):\n",
        "    print(\"Is this a class name?... \"+str(inspect.isclass(bruh)))\n",
        "class NeuralNetwork:\n",
        "    pass"
      ]
    },
    {
      "cell_type": "code",
      "execution_count": 182,
      "id": "a44ea72e",
      "metadata": {
        "id": "a44ea72e"
      },
      "outputs": [],
      "source": [
        "class Layer:\n",
        "  def __init__(self, OutputSize: int, Depth: int, ActivationFunction):\n",
        "    self._WEIGHTS = np.zeros((OutputSize, Depth)) # Make zeros later, when we have initialization functionality\n",
        "    self._BIASES = np.zeros(OutputSize) # biases to zero by defect\n",
        "    self._ACTIVATION = ActivationFunction\n",
        "\n",
        "\n",
        "\n",
        "class Initializer:\n",
        "  pass\n",
        "class HeWeight(Initializer):\n",
        "  def Initialize(LayerList: tp.List[Layer]) -> tp.List[Layer]:                                                     \n",
        "    for L in LayerList:\n",
        "      L._WEIGHTS = np.random.normal(0, math.sqrt(2/L._WEIGHTS.shape[1]), size = L._WEIGHTS.shape)\n",
        "    return LayerList\n",
        "\n",
        "\n",
        "\n",
        "\n",
        "class LossFunction: \n",
        "    pass \n",
        "class MSE(LossFunction): # Includes Regularization, Mean Squared Error\n",
        "    def __init__(self, Lambda):\n",
        "        self._Lambda = Lambda # Lambda for L2 regularization\n",
        "        self.__LastOutput = np.zeros((1,1))\n",
        "        \n",
        "    def f(self, NNET: NeuralNetwork, Output: np.array, Truth: np.array):\n",
        "        L2 = 0\n",
        "        for L in NNET._LAYERS:\n",
        "            L2 += np.sum(L._WEIGHTS ** 2)            \n",
        "        return 0.5/Output.size * (np.sum((Output - Truth) ** 2) + self._Lambda * L2) # Watch out for Backprop and all that for L2\n",
        "    \n",
        "    def df(self, NNET: NeuralNetwork, Output: np.array, Truth: np.array) -> np.array:\n",
        "        return 1/Output.size * ((Output - Truth))\n",
        "    \n",
        "\n",
        "\n",
        "class ActivationFunction:\n",
        "    pass\n",
        "class RELU(ActivationFunction): # RELU activation, for other activations last output will be saved for faster derivative\n",
        "    def __init__(self):\n",
        "        self.f = np.vectorize(self.__f)\n",
        "        self.df = np.vectorize(self.__df)\n",
        "        \n",
        "    def __f(self, Input):\n",
        "        if Input > 0:\n",
        "            return Input\n",
        "        else:\n",
        "            return 0\n",
        "        \n",
        "    def __df(self, Input): \n",
        "        if Input > 0: \n",
        "            return 1\n",
        "        else:\n",
        "            return 0\n",
        "        pass\n",
        "\n",
        "\n",
        "\n",
        "class Sigmoid(ActivationFunction):\n",
        "  def __init__(self):\n",
        "        self.__LastOutput = np.zeros((1,1))\n",
        "\n",
        "\n",
        "  def f(self, Input):\n",
        "        self.__LastOutput = 1/(1 + np.exp(-Input))\n",
        "        return self.__LastOutput\n",
        "\n",
        "        \n",
        "  def df(self, Input): \n",
        "        return np.multiply(self.__LastOutput, (1 - self.__LastOutput))\n",
        "  \n",
        "    \n",
        "    \n",
        "    \n",
        "class Optimizer:\n",
        "    pass\n",
        "class OptimizerExample(Optimizer):\n",
        "    def __init__(self, Alpha, Beta): \n",
        "        self.__Time = 0 # For decays and that, incremented each epoch maybe\n",
        "        self.__Alpha = Alpha # For momentum\n",
        "        self.__Beta = Beta # For momentum\n",
        "        self.__Vw = [] # Update gradient for weights for nesterov Momentum\n",
        "        self.__Vb = [] # Update gradient for biases\n",
        "        self.__LastOutput = [] # Last output of each layer\n",
        "\n",
        "        self.__VPass = []\n",
        "        self.__VTemp = []\n",
        "        # ... Missing some other varibles for backpropagation\n",
        "        \n",
        "    def Optimize(self, NNET: NeuralNetwork, Input: np.array, Truth: np.array ) -> tp.Tuple[tp.List[np.array], tp.List[np.array]]:    \n",
        "        N = len(NNET._LAYERS)\n",
        "        InvOutputSize = 1/Truth[0].size\n",
        "        Loss = 0\n",
        "       \n",
        "\n",
        "        self.__Vw = [None] * N # Initialize variables to mantain consistance across epochs\n",
        "        self.__Vb = [None] * N\n",
        "        self.__LastOutput = [None] * N\n",
        "\n",
        "        self.__VPass = [None] * N\n",
        "        self.__VTemp = [None] * N\n",
        "\n",
        "    \n",
        "        for Temp in range(0, N):\n",
        "            self.__Vw[Temp] = np.zeros(NNET._LAYERS[Temp]._WEIGHTS.shape)  # Initialize prev Vw to 0's\n",
        "        \n",
        "        for Elem in range(0, Input.shape[0]): # For every element in training input batch\n",
        "            # Forward Propagation\n",
        "            self.__LastOutput[0] = NNET._LAYERS[0]._ACTIVATION.f(np.matmul(NNET._LAYERS[0]._WEIGHTS, Input[Elem]) + NNET._LAYERS[0]._BIASES) # First we need the input to propagate\n",
        "            for i in range(1, N):\n",
        "                self.__LastOutput[i] = NNET._LAYERS[i]._ACTIVATION.f(np.matmul(NNET._LAYERS[i]._WEIGHTS, self.__LastOutput[i-1]) + NNET._LAYERS[i]._BIASES) # Propagate forward and save outputs\n",
        "            # We get the error outside loop\n",
        "            Loss += NNET._LOSS.f(NNET, self.__LastOutput[N-1], Truth[Elem])\n",
        "\n",
        "\n",
        "           # print(NNET._WEIGHTS[N-1])\n",
        "            \n",
        "\n",
        "\n",
        "            # Backpropagation\n",
        "            self.__VPass[N-1] = NNET._LOSS.df(NNET, self.__LastOutput[N-1], Truth[Elem]) # First propagation passed back is the derivative of the error (with respect to the output)\n",
        "            for i in range(N-1, 0, -1):\n",
        "                self.__VTemp[i] = np.multiply(self.__VPass[i], NNET._LAYERS[i]._ACTIVATION.df(self.__LastOutput[i])) # Useful Temp array (which is in reality dE/db, maybe later will be deprecated to optimize)\n",
        "               \n",
        "                self.__Vw[i] = self.__Alpha * np.outer(self.__VTemp[i], self.__LastOutput[i-1]) + self.__Beta * self.__Vw[i] +  NNET._LOSS._Lambda * InvOutputSize * NNET._LAYERS[i]._WEIGHTS # Weights gradient, includes L2 propagated. This will not be possible for firs layer, so we need outside loop function (we could include the input into the output list, but idk)\n",
        "                \n",
        "                self.__Vb[i] = self.__Alpha * self.__VTemp[i] # Biases gradient\n",
        "               \n",
        "                self.__VPass[i-1] = self.__VTemp[i].dot(NNET._LAYERS[i]._WEIGHTS) # Propagated error\n",
        "\n",
        "               # print(\"This should be (\"+str(self.__VTemp[i].size)+\", \"+str(self.__LastOutput[i-1].size)+\"): \" + str(self.__Vw[i].shape))\n",
        "               \n",
        "                NNET._LAYERS[i]._WEIGHTS -= self.__Vw[i] # Update parameters\n",
        "                NNET._LAYERS[i]._BIASES -= self.__Vb[i]\n",
        "\n",
        "            # First layer we do outside loop\n",
        "            self.__VTemp[0] = np.multiply(self.__VPass[0], NNET._LAYERS[0]._ACTIVATION.df(self.__LastOutput[0])) \n",
        "            self.__Vw[0] = self.__Alpha * np.outer(self.__VTemp[0], Input[Elem]) + self.__Beta * self.__Vw[0] +  NNET._LOSS._Lambda * InvOutputSize * NNET._LAYERS[0]._WEIGHTS\n",
        "            self.__Vb[0] = self.__Alpha * self.__VTemp[0] # Biases gradient \n",
        "            NNET._LAYERS[0]._WEIGHTS -= self.__Vw[0] # Update parameters\n",
        "            NNET._LAYERS[0]._BIASES -= self.__Vb[0]\n",
        "\n",
        "        if (self.__Time % 10 == 0):\n",
        "           print(\"Loss: \"+ str(Loss / Input.shape[0]))\n",
        "\n",
        "        #print(NNET._LAYERS[0]._WEIGHTS)\n",
        "\n",
        "  \n",
        "        self.__Time += 1\n",
        "        return NNET._LAYERS\n",
        "\n",
        "    \n",
        "class NeuralNetwork:\n",
        "    def __init__(self, ActivationFunctions: tp.List[ActivationFunction], Nodes: tp.List[int]):   \n",
        "        self._LAYERS = []     \n",
        "        self._LOSS = MSE(0) # Loss function, object\n",
        "\n",
        "        \n",
        "        # Add: \n",
        "        # Variable input and ouput sizes\n",
        "        # Different activation functions ~ start with ELU\n",
        "        # L1 regularization\n",
        "        # Nesterov SGD with momentum optimizer\n",
        "        # Initializer objects\n",
        "        # Dropout\n",
        "        \n",
        "        for i in range(1, len(Nodes)): # Initialize weights and biases sizes\n",
        "            self._LAYERS.append(Layer(Nodes[i], Nodes[i-1], ActivationFunctions[i-1]))\n",
        "\n",
        "    def InitializeParams(self, Initializer_: Initializer):\n",
        "      self._LAYERS = Initializer_.Initialize(self._LAYERS)\n",
        "\n",
        "\n",
        "    def Train(self, Input: np.array, Truth: np.array, Iterations: int, Optimizer_: Optimizer, LossFunction_: LossFunction = None ) -> None: # Truth.shape = (TrainingInstances, ElementsInEach), same for input     \n",
        " \n",
        "        if LossFunction_ is not None: # If other loss function is provided\n",
        "            self._LOSS = LossFunction_\n",
        "            \n",
        "        for Iter in np.arange(0, Iterations):\n",
        "                self._LAYERS = Optimizer_.Optimize(self, Input, Truth) # Optimizer updates biases and weights each epoch\n",
        "                \n",
        "    \n",
        "    def PredictOne(self, InputInstance: np.array) -> np.array:\n",
        "        Temp = 0\n",
        "        Temp = self._LAYERS[0]._ACTIVATION.f(np.matmul(self._LAYERS[0]._WEIGHTS, InputInstance) + self._LAYERS[0]._BIASES) # First we need the input to propagate\n",
        "        for i in range(1, len(self._LAYERS)):\n",
        "            Temp = self._LAYERS[i]._ACTIVATION.f(np.matmul(self._LAYERS[i]._WEIGHTS, Temp) + self._LAYERS[i]._BIASES) # Propagate forward and save outputs\n",
        "\n",
        "        return Temp\n",
        "    def Predict(self, Input: np.array) -> np.array:\n",
        "        Return = np.zeros((Input.shape[0], self._LAYERS[len(self._LAYERS)-1]._BIASES.size))\n",
        "        for k in range(0, Return.shape[0]):\n",
        "          Temp = self._LAYERS[0]._ACTIVATION.f(np.matmul(self._LAYERS[0]._WEIGHTS, Input[k]) + self._LAYERS[0]._BIASES) # First we need the input to propagate\n",
        "          for i in range(1, len(self._LAYERS)):\n",
        "              Temp = self._LAYERS[i]._ACTIVATION.f(np.matmul(self._LAYERS[i]._WEIGHTS, Temp) + self._LAYERS[i]._BIASES) # Propagate forward and save outputs\n",
        "          Return[k] = Temp\n",
        "\n",
        "        return Return\n",
        "    "
      ]
    },
    {
      "cell_type": "code",
      "execution_count": 200,
      "id": "d024a332",
      "metadata": {
        "id": "d024a332",
        "outputId": "24117525-b1e6-4958-d06c-8db2fe2df1ba",
        "colab": {
          "base_uri": "https://localhost:8080/",
          "height": 432
        }
      },
      "outputs": [
        {
          "output_type": "stream",
          "name": "stdout",
          "text": [
            "Loss: 0.2050996659030044\n",
            "Loss: 0.20508275848792923\n",
            "Loss: 0.20508275848792923\n"
          ]
        },
        {
          "output_type": "error",
          "ename": "KeyboardInterrupt",
          "evalue": "ignored",
          "traceback": [
            "\u001b[0;31m---------------------------------------------------------------------------\u001b[0m",
            "\u001b[0;31mKeyboardInterrupt\u001b[0m                         Traceback (most recent call last)",
            "\u001b[0;32m<ipython-input-200-407a3e1b4017>\u001b[0m in \u001b[0;36m<module>\u001b[0;34m()\u001b[0m\n\u001b[1;32m      4\u001b[0m \u001b[0mX\u001b[0m \u001b[0;34m=\u001b[0m \u001b[0;36m2\u001b[0m \u001b[0;34m*\u001b[0m \u001b[0;34m(\u001b[0m\u001b[0mnp\u001b[0m\u001b[0;34m.\u001b[0m\u001b[0mrandom\u001b[0m\u001b[0;34m.\u001b[0m\u001b[0mrand\u001b[0m\u001b[0;34m(\u001b[0m\u001b[0;36m1000\u001b[0m\u001b[0;34m,\u001b[0m\u001b[0;36m1\u001b[0m\u001b[0;34m)\u001b[0m \u001b[0;34m-\u001b[0m \u001b[0mnp\u001b[0m\u001b[0;34m.\u001b[0m\u001b[0mrandom\u001b[0m\u001b[0;34m.\u001b[0m\u001b[0mrand\u001b[0m\u001b[0;34m(\u001b[0m\u001b[0;36m1000\u001b[0m\u001b[0;34m,\u001b[0m\u001b[0;36m1\u001b[0m\u001b[0;34m)\u001b[0m \u001b[0;34m)\u001b[0m\u001b[0;34m\u001b[0m\u001b[0;34m\u001b[0m\u001b[0m\n\u001b[1;32m      5\u001b[0m \u001b[0mY\u001b[0m \u001b[0;34m=\u001b[0m \u001b[0mnp\u001b[0m\u001b[0;34m.\u001b[0m\u001b[0msin\u001b[0m\u001b[0;34m(\u001b[0m\u001b[0mX\u001b[0m\u001b[0;34m)\u001b[0m\u001b[0;34m\u001b[0m\u001b[0;34m\u001b[0m\u001b[0m\n\u001b[0;32m----> 6\u001b[0;31m \u001b[0mN\u001b[0m\u001b[0;34m.\u001b[0m\u001b[0mTrain\u001b[0m\u001b[0;34m(\u001b[0m\u001b[0mX\u001b[0m\u001b[0;34m,\u001b[0m \u001b[0mY\u001b[0m\u001b[0;34m,\u001b[0m \u001b[0;36m30\u001b[0m\u001b[0;34m,\u001b[0m \u001b[0mOptimizerExample\u001b[0m\u001b[0;34m(\u001b[0m\u001b[0;36m0.003\u001b[0m\u001b[0;34m,\u001b[0m \u001b[0;36m0.0025\u001b[0m\u001b[0;34m)\u001b[0m\u001b[0;34m,\u001b[0m \u001b[0mMSE\u001b[0m\u001b[0;34m(\u001b[0m\u001b[0;36m0\u001b[0m\u001b[0;34m)\u001b[0m\u001b[0;34m)\u001b[0m\u001b[0;34m\u001b[0m\u001b[0;34m\u001b[0m\u001b[0m\n\u001b[0m\u001b[1;32m      7\u001b[0m \u001b[0mprint\u001b[0m\u001b[0;34m(\u001b[0m\u001b[0mnp\u001b[0m\u001b[0;34m.\u001b[0m\u001b[0mabs\u001b[0m\u001b[0;34m(\u001b[0m\u001b[0mY\u001b[0m\u001b[0;34m-\u001b[0m\u001b[0mN\u001b[0m\u001b[0;34m.\u001b[0m\u001b[0mPredict\u001b[0m\u001b[0;34m(\u001b[0m\u001b[0mX\u001b[0m\u001b[0;34m)\u001b[0m\u001b[0;34m)\u001b[0m\u001b[0;34m)\u001b[0m\u001b[0;34m\u001b[0m\u001b[0;34m\u001b[0m\u001b[0m\n\u001b[1;32m      8\u001b[0m \u001b[0mprint\u001b[0m\u001b[0;34m(\u001b[0m\u001b[0mTest\u001b[0m\u001b[0;34m)\u001b[0m\u001b[0;34m\u001b[0m\u001b[0;34m\u001b[0m\u001b[0m\n",
            "\u001b[0;32m<ipython-input-182-352b781218b7>\u001b[0m in \u001b[0;36mTrain\u001b[0;34m(self, Input, Truth, Iterations, Optimizer_, LossFunction_)\u001b[0m\n\u001b[1;32m    179\u001b[0m \u001b[0;34m\u001b[0m\u001b[0m\n\u001b[1;32m    180\u001b[0m         \u001b[0;32mfor\u001b[0m \u001b[0mIter\u001b[0m \u001b[0;32min\u001b[0m \u001b[0mnp\u001b[0m\u001b[0;34m.\u001b[0m\u001b[0marange\u001b[0m\u001b[0;34m(\u001b[0m\u001b[0;36m0\u001b[0m\u001b[0;34m,\u001b[0m \u001b[0mIterations\u001b[0m\u001b[0;34m)\u001b[0m\u001b[0;34m:\u001b[0m\u001b[0;34m\u001b[0m\u001b[0;34m\u001b[0m\u001b[0m\n\u001b[0;32m--> 181\u001b[0;31m                 \u001b[0mself\u001b[0m\u001b[0;34m.\u001b[0m\u001b[0m_LAYERS\u001b[0m \u001b[0;34m=\u001b[0m \u001b[0mOptimizer_\u001b[0m\u001b[0;34m.\u001b[0m\u001b[0mOptimize\u001b[0m\u001b[0;34m(\u001b[0m\u001b[0mself\u001b[0m\u001b[0;34m,\u001b[0m \u001b[0mInput\u001b[0m\u001b[0;34m,\u001b[0m \u001b[0mTruth\u001b[0m\u001b[0;34m)\u001b[0m \u001b[0;31m# Optimizer updates biases and weights each epoch\u001b[0m\u001b[0;34m\u001b[0m\u001b[0;34m\u001b[0m\u001b[0m\n\u001b[0m\u001b[1;32m    182\u001b[0m \u001b[0;34m\u001b[0m\u001b[0m\n\u001b[1;32m    183\u001b[0m \u001b[0;34m\u001b[0m\u001b[0m\n",
            "\u001b[0;32m<ipython-input-182-352b781218b7>\u001b[0m in \u001b[0;36mOptimize\u001b[0;34m(self, NNET, Input, Truth)\u001b[0m\n\u001b[1;32m    122\u001b[0m             \u001b[0mself\u001b[0m\u001b[0;34m.\u001b[0m\u001b[0m__VPass\u001b[0m\u001b[0;34m[\u001b[0m\u001b[0mN\u001b[0m\u001b[0;34m-\u001b[0m\u001b[0;36m1\u001b[0m\u001b[0;34m]\u001b[0m \u001b[0;34m=\u001b[0m \u001b[0mNNET\u001b[0m\u001b[0;34m.\u001b[0m\u001b[0m_LOSS\u001b[0m\u001b[0;34m.\u001b[0m\u001b[0mdf\u001b[0m\u001b[0;34m(\u001b[0m\u001b[0mNNET\u001b[0m\u001b[0;34m,\u001b[0m \u001b[0mself\u001b[0m\u001b[0;34m.\u001b[0m\u001b[0m__LastOutput\u001b[0m\u001b[0;34m[\u001b[0m\u001b[0mN\u001b[0m\u001b[0;34m-\u001b[0m\u001b[0;36m1\u001b[0m\u001b[0;34m]\u001b[0m\u001b[0;34m,\u001b[0m \u001b[0mTruth\u001b[0m\u001b[0;34m[\u001b[0m\u001b[0mElem\u001b[0m\u001b[0;34m]\u001b[0m\u001b[0;34m)\u001b[0m \u001b[0;31m# First propagation passed back is the derivative of the error (with respect to the output)\u001b[0m\u001b[0;34m\u001b[0m\u001b[0;34m\u001b[0m\u001b[0m\n\u001b[1;32m    123\u001b[0m             \u001b[0;32mfor\u001b[0m \u001b[0mi\u001b[0m \u001b[0;32min\u001b[0m \u001b[0mrange\u001b[0m\u001b[0;34m(\u001b[0m\u001b[0mN\u001b[0m\u001b[0;34m-\u001b[0m\u001b[0;36m1\u001b[0m\u001b[0;34m,\u001b[0m \u001b[0;36m0\u001b[0m\u001b[0;34m,\u001b[0m \u001b[0;34m-\u001b[0m\u001b[0;36m1\u001b[0m\u001b[0;34m)\u001b[0m\u001b[0;34m:\u001b[0m\u001b[0;34m\u001b[0m\u001b[0;34m\u001b[0m\u001b[0m\n\u001b[0;32m--> 124\u001b[0;31m                 \u001b[0mself\u001b[0m\u001b[0;34m.\u001b[0m\u001b[0m__VTemp\u001b[0m\u001b[0;34m[\u001b[0m\u001b[0mi\u001b[0m\u001b[0;34m]\u001b[0m \u001b[0;34m=\u001b[0m \u001b[0mnp\u001b[0m\u001b[0;34m.\u001b[0m\u001b[0mmultiply\u001b[0m\u001b[0;34m(\u001b[0m\u001b[0mself\u001b[0m\u001b[0;34m.\u001b[0m\u001b[0m__VPass\u001b[0m\u001b[0;34m[\u001b[0m\u001b[0mi\u001b[0m\u001b[0;34m]\u001b[0m\u001b[0;34m,\u001b[0m \u001b[0mNNET\u001b[0m\u001b[0;34m.\u001b[0m\u001b[0m_LAYERS\u001b[0m\u001b[0;34m[\u001b[0m\u001b[0mi\u001b[0m\u001b[0;34m]\u001b[0m\u001b[0;34m.\u001b[0m\u001b[0m_ACTIVATION\u001b[0m\u001b[0;34m.\u001b[0m\u001b[0mdf\u001b[0m\u001b[0;34m(\u001b[0m\u001b[0mself\u001b[0m\u001b[0;34m.\u001b[0m\u001b[0m__LastOutput\u001b[0m\u001b[0;34m[\u001b[0m\u001b[0mi\u001b[0m\u001b[0;34m]\u001b[0m\u001b[0;34m)\u001b[0m\u001b[0;34m)\u001b[0m \u001b[0;31m# Useful Temp array (which is in reality dE/db, maybe later will be deprecated to optimize)\u001b[0m\u001b[0;34m\u001b[0m\u001b[0;34m\u001b[0m\u001b[0m\n\u001b[0m\u001b[1;32m    125\u001b[0m \u001b[0;34m\u001b[0m\u001b[0m\n\u001b[1;32m    126\u001b[0m                 \u001b[0mself\u001b[0m\u001b[0;34m.\u001b[0m\u001b[0m__Vw\u001b[0m\u001b[0;34m[\u001b[0m\u001b[0mi\u001b[0m\u001b[0;34m]\u001b[0m \u001b[0;34m=\u001b[0m \u001b[0mself\u001b[0m\u001b[0;34m.\u001b[0m\u001b[0m__Alpha\u001b[0m \u001b[0;34m*\u001b[0m \u001b[0mnp\u001b[0m\u001b[0;34m.\u001b[0m\u001b[0mouter\u001b[0m\u001b[0;34m(\u001b[0m\u001b[0mself\u001b[0m\u001b[0;34m.\u001b[0m\u001b[0m__VTemp\u001b[0m\u001b[0;34m[\u001b[0m\u001b[0mi\u001b[0m\u001b[0;34m]\u001b[0m\u001b[0;34m,\u001b[0m \u001b[0mself\u001b[0m\u001b[0;34m.\u001b[0m\u001b[0m__LastOutput\u001b[0m\u001b[0;34m[\u001b[0m\u001b[0mi\u001b[0m\u001b[0;34m-\u001b[0m\u001b[0;36m1\u001b[0m\u001b[0;34m]\u001b[0m\u001b[0;34m)\u001b[0m \u001b[0;34m+\u001b[0m \u001b[0mself\u001b[0m\u001b[0;34m.\u001b[0m\u001b[0m__Beta\u001b[0m \u001b[0;34m*\u001b[0m \u001b[0mself\u001b[0m\u001b[0;34m.\u001b[0m\u001b[0m__Vw\u001b[0m\u001b[0;34m[\u001b[0m\u001b[0mi\u001b[0m\u001b[0;34m]\u001b[0m \u001b[0;34m+\u001b[0m  \u001b[0mNNET\u001b[0m\u001b[0;34m.\u001b[0m\u001b[0m_LOSS\u001b[0m\u001b[0;34m.\u001b[0m\u001b[0m_Lambda\u001b[0m \u001b[0;34m*\u001b[0m \u001b[0mInvOutputSize\u001b[0m \u001b[0;34m*\u001b[0m \u001b[0mNNET\u001b[0m\u001b[0;34m.\u001b[0m\u001b[0m_LAYERS\u001b[0m\u001b[0;34m[\u001b[0m\u001b[0mi\u001b[0m\u001b[0;34m]\u001b[0m\u001b[0;34m.\u001b[0m\u001b[0m_WEIGHTS\u001b[0m \u001b[0;31m# Weights gradient, includes L2 propagated. This will not be possible for firs layer, so we need outside loop function (we could include the input into the output list, but idk)\u001b[0m\u001b[0;34m\u001b[0m\u001b[0;34m\u001b[0m\u001b[0m\n",
            "\u001b[0;32m/usr/local/lib/python3.7/dist-packages/numpy/lib/function_base.py\u001b[0m in \u001b[0;36m__call__\u001b[0;34m(self, *args, **kwargs)\u001b[0m\n\u001b[1;32m   2078\u001b[0m             \u001b[0mself\u001b[0m\u001b[0;34m.\u001b[0m\u001b[0m_in_and_out_core_dims\u001b[0m \u001b[0;34m=\u001b[0m \u001b[0;32mNone\u001b[0m\u001b[0;34m\u001b[0m\u001b[0;34m\u001b[0m\u001b[0m\n\u001b[1;32m   2079\u001b[0m \u001b[0;34m\u001b[0m\u001b[0m\n\u001b[0;32m-> 2080\u001b[0;31m     \u001b[0;32mdef\u001b[0m \u001b[0m__call__\u001b[0m\u001b[0;34m(\u001b[0m\u001b[0mself\u001b[0m\u001b[0;34m,\u001b[0m \u001b[0;34m*\u001b[0m\u001b[0margs\u001b[0m\u001b[0;34m,\u001b[0m \u001b[0;34m**\u001b[0m\u001b[0mkwargs\u001b[0m\u001b[0;34m)\u001b[0m\u001b[0;34m:\u001b[0m\u001b[0;34m\u001b[0m\u001b[0;34m\u001b[0m\u001b[0m\n\u001b[0m\u001b[1;32m   2081\u001b[0m         \"\"\"\n\u001b[1;32m   2082\u001b[0m         \u001b[0mReturn\u001b[0m \u001b[0marrays\u001b[0m \u001b[0;32mwith\u001b[0m \u001b[0mthe\u001b[0m \u001b[0mresults\u001b[0m \u001b[0mof\u001b[0m\u001b[0;31m \u001b[0m\u001b[0;31m`\u001b[0m\u001b[0mpyfunc\u001b[0m\u001b[0;31m`\u001b[0m \u001b[0mbroadcast\u001b[0m \u001b[0;34m(\u001b[0m\u001b[0mvectorized\u001b[0m\u001b[0;34m)\u001b[0m \u001b[0mover\u001b[0m\u001b[0;34m\u001b[0m\u001b[0;34m\u001b[0m\u001b[0m\n",
            "\u001b[0;31mKeyboardInterrupt\u001b[0m: "
          ]
        }
      ],
      "source": [
        "N = NeuralNetwork([RELU(), RELU(), RELU()], [1,100,100,1]) # Pass objects!!1\n",
        "N.InitializeParams(HeWeight)\n",
        "#print(N._LAYERS[0]._WEIGHTS)\n",
        "X = 2 * (np.random.rand(1000,1) - np.random.rand(1000,1) )\n",
        "Y = np.sin(X)\n",
        "N.Train(X, Y, 30, OptimizerExample(0.003, 0.0025), MSE(0))\n",
        "print(np.abs(Y-N.Predict(X)))\n",
        "print(Test)\n",
        "\n"
      ]
    },
    {
      "cell_type": "code",
      "execution_count": null,
      "id": "fb6b8672",
      "metadata": {
        "id": "fb6b8672",
        "outputId": "59476fc2-4df3-4f5a-b633-3cfec18852db"
      },
      "outputs": [
        {
          "data": {
            "text/html": [
              "<style>.container { width:100% !important; }</style>"
            ],
            "text/plain": [
              "<IPython.core.display.HTML object>"
            ]
          },
          "metadata": {},
          "output_type": "display_data"
        }
      ],
      "source": [
        "Ç  Çfrom IPython.core.display import display, HTML\n",
        "display(HTML(\"<style>.container { width:100% !important; }</style>\"))"
      ]
    },
    {
      "cell_type": "code",
      "execution_count": 195,
      "id": "b6d43bd3",
      "metadata": {
        "id": "b6d43bd3",
        "outputId": "5c5de598-441a-48a7-f0bb-322ba509189f",
        "colab": {
          "base_uri": "https://localhost:8080/",
          "height": 282
        }
      },
      "outputs": [
        {
          "output_type": "execute_result",
          "data": {
            "text/plain": [
              "<matplotlib.collections.PathCollection at 0x7fce05866790>"
            ]
          },
          "metadata": {},
          "execution_count": 195
        },
        {
          "output_type": "display_data",
          "data": {
            "image/png": "[encoded data removed]",
            "text/plain": [
              "<Figure size 432x288 with 1 Axes>"
            ]
          },
          "metadata": {
            "needs_background": "light"
          }
        }
      ],
      "source": [
        "plt.scatter(X, Y)"
      ]
    },
    {
      "cell_type": "code",
      "execution_count": 188,
      "id": "4005cf33",
      "metadata": {
        "id": "4005cf33"
      },
      "outputs": [],
      "source": [
        "import matplotlib.pyplot as plt\n"
      ]
    },
    {
      "cell_type": "code",
      "execution_count": 198,
      "id": "0f17a648",
      "metadata": {
        "id": "0f17a648",
        "outputId": "dba51195-6e02-48be-e487-93c9491473e1",
        "colab": {
          "base_uri": "https://localhost:8080/",
          "height": 282
        }
      },
      "outputs": [
        {
          "output_type": "execute_result",
          "data": {
            "text/plain": [
              "<matplotlib.collections.PathCollection at 0x7fcdfd1a4610>"
            ]
          },
          "metadata": {},
          "execution_count": 198
        },
        {
          "output_type": "display_data",
          "data": {
            "image/png": "[encoded data removed]",
            "text/plain": [
              "<Figure size 432x288 with 1 Axes>"
            ]
          },
          "metadata": {
            "needs_background": "light"
          }
        }
      ],
      "source": [
        "plt.scatter(X, N.Predict(X))"
      ]
    },
    {
      "cell_type": "code",
      "execution_count": null,
      "id": "75073cec",
      "metadata": {
        "id": "75073cec"
      },
      "outputs": [],
      "source": [
        "def testS(x):\n",
        "    print(np.matmul(np.ones((10,3)), x[0]))"
      ]
    },
    {
      "cell_type": "code",
      "execution_count": null,
      "id": "8f30024d",
      "metadata": {
        "id": "8f30024d"
      },
      "outputs": [],
      "source": [
        "C = np.random.rand(6,3)"
      ]
    },
    {
      "cell_type": "code",
      "execution_count": null,
      "id": "916632be",
      "metadata": {
        "id": "916632be"
      },
      "outputs": [],
      "source": [
        "def temp(x):\n",
        "    print(x.size)"
      ]
    },
    {
      "cell_type": "code",
      "execution_count": null,
      "id": "8daeef4e",
      "metadata": {
        "id": "8daeef4e",
        "outputId": "daad1c8f-8233-4576-98c3-40d7ff652658",
        "colab": {
          "base_uri": "https://localhost:8080/",
          "height": 217
        }
      },
      "outputs": [
        {
          "output_type": "error",
          "ename": "AttributeError",
          "evalue": "ignored",
          "traceback": [
            "\u001b[0;31m---------------------------------------------------------------------------\u001b[0m",
            "\u001b[0;31mAttributeError\u001b[0m                            Traceback (most recent call last)",
            "\u001b[0;32m<ipython-input-67-d89f34e06de7>\u001b[0m in \u001b[0;36m<module>\u001b[0;34m()\u001b[0m\n\u001b[0;32m----> 1\u001b[0;31m \u001b[0mX\u001b[0m \u001b[0;34m=\u001b[0m \u001b[0mnp\u001b[0m\u001b[0;34m.\u001b[0m\u001b[0mrandom\u001b[0m\u001b[0;34m.\u001b[0m\u001b[0mrandrange\u001b[0m\u001b[0;34m(\u001b[0m\u001b[0;34m(\u001b[0m\u001b[0;36m3\u001b[0m\u001b[0;34m,\u001b[0m\u001b[0;36m8\u001b[0m\u001b[0;34m)\u001b[0m\u001b[0;34m)\u001b[0m\u001b[0;34m\u001b[0m\u001b[0;34m\u001b[0m\u001b[0m\n\u001b[0m\u001b[1;32m      2\u001b[0m \u001b[0mY\u001b[0m \u001b[0;34m=\u001b[0m \u001b[0mnp\u001b[0m\u001b[0;34m.\u001b[0m\u001b[0masarray\u001b[0m\u001b[0;34m(\u001b[0m\u001b[0;34m[\u001b[0m\u001b[0;36m2\u001b[0m\u001b[0;34m,\u001b[0m\u001b[0;36m3\u001b[0m\u001b[0;34m,\u001b[0m\u001b[0;36m4\u001b[0m\u001b[0;34m]\u001b[0m\u001b[0;34m)\u001b[0m\u001b[0;34m\u001b[0m\u001b[0;34m\u001b[0m\u001b[0m\n\u001b[1;32m      3\u001b[0m \u001b[0;34m\u001b[0m\u001b[0m\n\u001b[1;32m      4\u001b[0m \u001b[0mY\u001b[0m\u001b[0;34m.\u001b[0m\u001b[0mdot\u001b[0m\u001b[0;34m(\u001b[0m\u001b[0mX\u001b[0m\u001b[0;34m)\u001b[0m\u001b[0;34m\u001b[0m\u001b[0;34m\u001b[0m\u001b[0m\n",
            "\u001b[0;31mAttributeError\u001b[0m: module 'numpy.random' has no attribute 'randrange'"
          ]
        }
      ],
      "source": [
        "X = np.random.randrange((3,8))\n",
        "Y = np.asarray([2,3,4])\n",
        "\n",
        "Y.dot(X)"
      ]
    },
    {
      "cell_type": "markdown",
      "id": "23a5b951",
      "metadata": {
        "id": "23a5b951"
      },
      "source": [
        "temp(C)"
      ]
    },
    {
      "cell_type": "code",
      "execution_count": null,
      "id": "7e0430d2",
      "metadata": {
        "id": "7e0430d2"
      },
      "outputs": [],
      "source": [
        ""
      ]
    }
  ],
  "metadata": {
    "kernelspec": {
      "display_name": "Python 3.8.10 64-bit ('venv3': venv)",
      "language": "python",
      "name": "python3810jvsc74a57bd00fb76f2204baa4b88bd62e02626b1d627a276ef1a4dad37920da9ee4940b830b"
    },
    "language_info": {
      "codemirror_mode": {
        "name": "ipython",
        "version": 3
      },
      "file_extension": ".py",
      "mimetype": "text/x-python",
      "name": "python",
      "nbconvert_exporter": "python",
      "pygments_lexer": "ipython3",
      "version": "3.8.10"
    },
    "colab": {
      "name": "NeuralNetwork.ipynb",
      "provenance": []
    }
  },
  "nbformat": 4,
  "nbformat_minor": 5
}